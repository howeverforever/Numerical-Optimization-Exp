{
 "cells": [
  {
   "cell_type": "markdown",
   "metadata": {
    "toc": true
   },
   "source": [
    "<h1>Table of Contents<span class=\"tocSkip\"></span></h1>\n",
    "<div class=\"toc\" style=\"margin-top: 1em;\"><ul class=\"toc-item\"></ul></div>"
   ]
  },
  {
   "cell_type": "code",
   "execution_count": 1,
   "metadata": {
    "ExecuteTime": {
     "end_time": "2018-01-25T07:16:07.123191Z",
     "start_time": "2018-01-25T07:16:06.886465Z"
    },
    "collapsed": true
   },
   "outputs": [],
   "source": [
    "import numpy as np\n",
    "from numpy import linalg\n",
    "\n",
    "import pandas as pd\n",
    "import math\n",
    "np.set_printoptions(suppress=True)\n",
    "\n",
    "TOR = math.pow(10.0, -5)"
   ]
  },
  {
   "cell_type": "code",
   "execution_count": 2,
   "metadata": {
    "ExecuteTime": {
     "end_time": "2018-01-25T07:16:07.146704Z",
     "start_time": "2018-01-25T07:16:07.125581Z"
    }
   },
   "outputs": [
    {
     "name": "stdout",
     "output_type": "stream",
     "text": [
      "[ 0.49999593  0.00002635 -0.52359812]\n"
     ]
    }
   ],
   "source": [
    "def fix_point(x):\n",
    "    \"\"\"\n",
    "    given x_0 in R^3 as a starting point.\n",
    "\n",
    "    :param x: x_0 as described\n",
    "    :return: the minimizer x* of f\n",
    "    \"\"\"\n",
    "    y = np.zeros(len(x))\n",
    "    while True:\n",
    "        y[0] = math.cos(x[1] * x[2]) / 3.0 + 1.0 / 6.0\n",
    "        y[1] = math.sqrt(x[0] * x[0] + math.sin(x[2]) + 1.06) / 9.0 - 0.1\n",
    "        y[2] = -math.exp(-x[0] * x[1]) / 20.0 - (10.0 * math.pi - 3.0) / 60.0\n",
    "        if linalg.norm(x - y, np.inf) < TOR:\n",
    "            break\n",
    "        x = y\n",
    "\n",
    "    print(y)\n",
    "\n",
    "fix_point(np.array([0.1, 0.1, -0.1]))"
   ]
  },
  {
   "cell_type": "code",
   "execution_count": 3,
   "metadata": {
    "ExecuteTime": {
     "end_time": "2018-01-25T07:16:07.181715Z",
     "start_time": "2018-01-25T07:16:07.147998Z"
    }
   },
   "outputs": [
    {
     "name": "stdout",
     "output_type": "stream",
     "text": [
      "[ 0.49997747  0.00002815 -0.52359807]\n"
     ]
    }
   ],
   "source": [
    "def fix_point_acc(x):\n",
    "    y = np.zeros(len(x))\n",
    "    while True:\n",
    "        y[0] = math.cos(x[1] * x[2]) / 3.0 + 1.0 / 6.0\n",
    "        y[1] = math.sqrt(y[0] * y[0] + math.sin(x[2]) + 1.06) / 9.0 - 0.1\n",
    "        y[2] = -math.exp(-y[0] * y[1]) / 20.0 - (10.0 * math.pi - 3.0) / 60.0\n",
    "        if linalg.norm(x - y, np.inf) < TOR:\n",
    "            break\n",
    "        x = y\n",
    "\n",
    "    print(y)\n",
    "\n",
    "fix_point_acc(np.array([0.1, 0.1, -0.1]))    "
   ]
  }
 ],
 "metadata": {
  "kernelspec": {
   "display_name": "Python 3",
   "language": "python",
   "name": "python3"
  },
  "language_info": {
   "codemirror_mode": {
    "name": "ipython",
    "version": 3
   },
   "file_extension": ".py",
   "mimetype": "text/x-python",
   "name": "python",
   "nbconvert_exporter": "python",
   "pygments_lexer": "ipython3",
   "version": "3.6.3"
  },
  "toc": {
   "nav_menu": {},
   "number_sections": true,
   "sideBar": true,
   "skip_h1_title": false,
   "toc_cell": true,
   "toc_position": {},
   "toc_section_display": "block",
   "toc_window_display": false
  },
  "varInspector": {
   "cols": {
    "lenName": 16.0,
    "lenType": 16.0,
    "lenVar": 40.0
   },
   "kernels_config": {
    "python": {
     "delete_cmd_postfix": "",
     "delete_cmd_prefix": "del ",
     "library": "var_list.py",
     "varRefreshCmd": "print(var_dic_list())"
    },
    "r": {
     "delete_cmd_postfix": ") ",
     "delete_cmd_prefix": "rm(",
     "library": "var_list.r",
     "varRefreshCmd": "cat(var_dic_list()) "
    }
   },
   "types_to_exclude": [
    "module",
    "function",
    "builtin_function_or_method",
    "instance",
    "_Feature"
   ],
   "window_display": false
  }
 },
 "nbformat": 4,
 "nbformat_minor": 2
}
