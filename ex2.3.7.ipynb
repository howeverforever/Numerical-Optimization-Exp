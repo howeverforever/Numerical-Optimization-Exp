{
 "cells": [
  {
   "cell_type": "markdown",
   "metadata": {
    "toc": true
   },
   "source": [
    "<h1>Table of Contents<span class=\"tocSkip\"></span></h1>\n",
    "<div class=\"toc\" style=\"margin-top: 1em;\"><ul class=\"toc-item\"><li><ul class=\"toc-item\"><li><span><a href=\"#(a)-$x^3-−-2x^2-−-5-=-0,-[1,-4]$\" data-toc-modified-id=\"(a)-$x^3-−-2x^2-−-5-=-0,-[1,-4]$-0.1\"><span class=\"toc-item-num\">0.1&nbsp;&nbsp;</span>(a) $x^3 − 2x^2 − 5 = 0, [1, 4]$</a></span></li><li><span><a href=\"#(b)-$x^3-+-3x^2-−-1-=-0,-[-3,--2]$\" data-toc-modified-id=\"(b)-$x^3-+-3x^2-−-1-=-0,-[-3,--2]$-0.2\"><span class=\"toc-item-num\">0.2&nbsp;&nbsp;</span>(b) $x^3 + 3x^2 − 1 = 0, [-3, -2]$</a></span></li><li><span><a href=\"#(c)-$x−\\cos-x=0,-[0,-\\frac{\\pi}{2}]$\" data-toc-modified-id=\"(c)-$x−\\cos-x=0,-[0,-\\frac{\\pi}{2}]$-0.3\"><span class=\"toc-item-num\">0.3&nbsp;&nbsp;</span>(c) $x−\\cos x=0, [0, \\frac{\\pi}{2}]$</a></span></li><li><span><a href=\"#(d)-$x-−-0.8-−-0.2-\\sin-x-=-0,-[0,-\\frac{\\pi}{2}]$\" data-toc-modified-id=\"(d)-$x-−-0.8-−-0.2-\\sin-x-=-0,-[0,-\\frac{\\pi}{2}]$-0.4\"><span class=\"toc-item-num\">0.4&nbsp;&nbsp;</span>(d) $x − 0.8 − 0.2 \\sin x = 0, [0, \\frac{\\pi}{2}]$</a></span></li></ul></li></ul></div>"
   ]
  },
  {
   "cell_type": "markdown",
   "metadata": {},
   "source": [
    "Repeat Exercise 5 using the Secant method."
   ]
  },
  {
   "cell_type": "code",
   "execution_count": 1,
   "metadata": {
    "ExecuteTime": {
     "end_time": "2018-02-04T12:53:58.659770Z",
     "start_time": "2018-02-04T12:53:58.364665Z"
    },
    "collapsed": true
   },
   "outputs": [],
   "source": [
    "import numpy as np\n",
    "from numpy import linalg\n",
    "from abc import abstractmethod\n",
    "import pandas as pd\n",
    "import math\n",
    "\n",
    "pd.options.display.float_format = '{:,.8f}'.format\n",
    "np.set_printoptions(suppress=True, precision=8)\n",
    "\n",
    "TOR = pow(10.0, -4)\n",
    "MAX_ITR = 150"
   ]
  },
  {
   "cell_type": "code",
   "execution_count": 2,
   "metadata": {
    "ExecuteTime": {
     "end_time": "2018-02-04T12:53:58.676423Z",
     "start_time": "2018-02-04T12:53:58.661622Z"
    },
    "collapsed": true
   },
   "outputs": [],
   "source": [
    "class NewtonMethod(object):\n",
    "\n",
    "    def __init__(self):\n",
    "        return\n",
    "\n",
    "    @abstractmethod\n",
    "    def f(self, x):\n",
    "        return NotImplementedError('Implement f()!')\n",
    "\n",
    "    @abstractmethod\n",
    "    def jacobian(self, x):\n",
    "        return NotImplementedError('Implement jacobian()!')\n",
    "\n",
    "    @abstractmethod\n",
    "    def run(self, x):\n",
    "        return NotImplementedError('Implement run()!')"
   ]
  },
  {
   "cell_type": "markdown",
   "metadata": {},
   "source": [
    "## (a) $x^3 − 2x^2 − 5 = 0, [1, 4]$"
   ]
  },
  {
   "cell_type": "code",
   "execution_count": 3,
   "metadata": {
    "ExecuteTime": {
     "end_time": "2018-02-04T12:53:58.719725Z",
     "start_time": "2018-02-04T12:53:58.678309Z"
    },
    "collapsed": true
   },
   "outputs": [],
   "source": [
    "class Secant1D(NewtonMethod):\n",
    "\n",
    "    def __init__(self):\n",
    "        super(NewtonMethod, self).__init__()\n",
    "\n",
    "    def f(self, x):\n",
    "        return pow(x, 3) - 2 * pow(x, 2) - 5\n",
    "\n",
    "    def jacobian(self, x):\n",
    "        return 3 * pow(x, 2) - 4 * x\n",
    "\n",
    "    def run(self, x0):\n",
    "        df = pd.DataFrame(columns=['f(x)'])\n",
    "        row = len(df)\n",
    "        p0 = x0[0]\n",
    "        p1 = x0[1]\n",
    "        q0 = self.f(p0)\n",
    "        q1 = self.f(p1)\n",
    "        x = p0\n",
    "        df.loc[row] = [x]\n",
    "        for k in range(2, MAX_ITR):\n",
    "            try:\n",
    "                y = p1 - q1 * (p1 - p0) / (q1 - q0)\n",
    "            except ValueError:\n",
    "                break\n",
    "            residual = math.fabs(y - p1)\n",
    "            p0 = p1\n",
    "            q0 = q1\n",
    "            p1 = y\n",
    "            q1 = self.f(y)\n",
    "\n",
    "            row = len(df)\n",
    "            df.loc[row] = [y]\n",
    "            if residual < TOR or x > 1e9:\n",
    "                break\n",
    "        return df"
   ]
  },
  {
   "cell_type": "code",
   "execution_count": 4,
   "metadata": {
    "ExecuteTime": {
     "end_time": "2018-02-04T12:53:58.771936Z",
     "start_time": "2018-02-04T12:53:58.721137Z"
    },
    "scrolled": true
   },
   "outputs": [
    {
     "data": {
      "text/html": [
       "<div>\n",
       "<style>\n",
       "    .dataframe thead tr:only-child th {\n",
       "        text-align: right;\n",
       "    }\n",
       "\n",
       "    .dataframe thead th {\n",
       "        text-align: left;\n",
       "    }\n",
       "\n",
       "    .dataframe tbody tr th {\n",
       "        vertical-align: top;\n",
       "    }\n",
       "</style>\n",
       "<table border=\"1\" class=\"dataframe\">\n",
       "  <thead>\n",
       "    <tr style=\"text-align: right;\">\n",
       "      <th></th>\n",
       "      <th>f(x)</th>\n",
       "    </tr>\n",
       "  </thead>\n",
       "  <tbody>\n",
       "    <tr>\n",
       "      <th>0</th>\n",
       "      <td>1.00000000</td>\n",
       "    </tr>\n",
       "    <tr>\n",
       "      <th>1</th>\n",
       "      <td>1.54545455</td>\n",
       "    </tr>\n",
       "    <tr>\n",
       "      <th>2</th>\n",
       "      <td>1.99693440</td>\n",
       "    </tr>\n",
       "    <tr>\n",
       "      <th>3</th>\n",
       "      <td>4.10506347</td>\n",
       "    </tr>\n",
       "    <tr>\n",
       "      <th>4</th>\n",
       "      <td>2.29469906</td>\n",
       "    </tr>\n",
       "    <tr>\n",
       "      <th>5</th>\n",
       "      <td>2.47872630</td>\n",
       "    </tr>\n",
       "    <tr>\n",
       "      <th>6</th>\n",
       "      <td>2.75136803</td>\n",
       "    </tr>\n",
       "    <tr>\n",
       "      <th>7</th>\n",
       "      <td>2.68308447</td>\n",
       "    </tr>\n",
       "    <tr>\n",
       "      <th>8</th>\n",
       "      <td>2.69039813</td>\n",
       "    </tr>\n",
       "    <tr>\n",
       "      <th>9</th>\n",
       "      <td>2.69064850</td>\n",
       "    </tr>\n",
       "    <tr>\n",
       "      <th>10</th>\n",
       "      <td>2.69064745</td>\n",
       "    </tr>\n",
       "  </tbody>\n",
       "</table>\n",
       "</div>"
      ],
      "text/plain": [
       "         f(x)\n",
       "0  1.00000000\n",
       "1  1.54545455\n",
       "2  1.99693440\n",
       "3  4.10506347\n",
       "4  2.29469906\n",
       "5  2.47872630\n",
       "6  2.75136803\n",
       "7  2.68308447\n",
       "8  2.69039813\n",
       "9  2.69064850\n",
       "10 2.69064745"
      ]
     },
     "execution_count": 4,
     "metadata": {},
     "output_type": "execute_result"
    }
   ],
   "source": [
    "Secant1D().run([1, 4]).astype(np.float64)"
   ]
  },
  {
   "cell_type": "markdown",
   "metadata": {},
   "source": [
    "## (b) $x^3 + 3x^2 − 1 = 0, [-3, -2]$"
   ]
  },
  {
   "cell_type": "code",
   "execution_count": 5,
   "metadata": {
    "ExecuteTime": {
     "end_time": "2018-02-04T12:53:58.819676Z",
     "start_time": "2018-02-04T12:53:58.773355Z"
    },
    "collapsed": true
   },
   "outputs": [],
   "source": [
    "class Secant1D(NewtonMethod):\n",
    "\n",
    "    def __init__(self):\n",
    "        super(NewtonMethod, self).__init__()\n",
    "\n",
    "    def f(self, x):\n",
    "        return pow(x, 3) + 3 * pow(x, 2) - 1\n",
    "\n",
    "    def jacobian(self, x):\n",
    "        return 3 * pow(x, 2) - 6 * x\n",
    "\n",
    "    def run(self, x0):\n",
    "        df = pd.DataFrame(columns=['f(x)'])\n",
    "        row = len(df)\n",
    "        p0 = x0[0]\n",
    "        p1 = x0[1]\n",
    "        q0 = self.f(p0)\n",
    "        q1 = self.f(p1)\n",
    "        x = p0\n",
    "        df.loc[row] = [x]\n",
    "        for k in range(2, MAX_ITR):\n",
    "            try:\n",
    "                y = p1 - q1 * (p1 - p0) / (q1 - q0)\n",
    "            except ValueError:\n",
    "                break\n",
    "            residual = math.fabs(y - p1)\n",
    "            p0 = p1\n",
    "            q0 = q1\n",
    "            p1 = y\n",
    "            q1 = self.f(y)\n",
    "\n",
    "            row = len(df)\n",
    "            df.loc[row] = [y]\n",
    "            if residual < TOR or x > 1e9:\n",
    "                break\n",
    "        return df"
   ]
  },
  {
   "cell_type": "code",
   "execution_count": 6,
   "metadata": {
    "ExecuteTime": {
     "end_time": "2018-02-04T12:53:58.911331Z",
     "start_time": "2018-02-04T12:53:58.821682Z"
    },
    "scrolled": true
   },
   "outputs": [
    {
     "data": {
      "text/html": [
       "<div>\n",
       "<style>\n",
       "    .dataframe thead tr:only-child th {\n",
       "        text-align: right;\n",
       "    }\n",
       "\n",
       "    .dataframe thead th {\n",
       "        text-align: left;\n",
       "    }\n",
       "\n",
       "    .dataframe tbody tr th {\n",
       "        vertical-align: top;\n",
       "    }\n",
       "</style>\n",
       "<table border=\"1\" class=\"dataframe\">\n",
       "  <thead>\n",
       "    <tr style=\"text-align: right;\">\n",
       "      <th></th>\n",
       "      <th>f(x)</th>\n",
       "    </tr>\n",
       "  </thead>\n",
       "  <tbody>\n",
       "    <tr>\n",
       "      <th>0</th>\n",
       "      <td>-3.00000000</td>\n",
       "    </tr>\n",
       "    <tr>\n",
       "      <th>1</th>\n",
       "      <td>-2.75000000</td>\n",
       "    </tr>\n",
       "    <tr>\n",
       "      <th>2</th>\n",
       "      <td>-3.06666667</td>\n",
       "    </tr>\n",
       "    <tr>\n",
       "      <th>3</th>\n",
       "      <td>-2.86202439</td>\n",
       "    </tr>\n",
       "    <tr>\n",
       "      <th>4</th>\n",
       "      <td>-2.87718594</td>\n",
       "    </tr>\n",
       "    <tr>\n",
       "      <th>5</th>\n",
       "      <td>-2.87941390</td>\n",
       "    </tr>\n",
       "    <tr>\n",
       "      <th>6</th>\n",
       "      <td>-2.87938519</td>\n",
       "    </tr>\n",
       "  </tbody>\n",
       "</table>\n",
       "</div>"
      ],
      "text/plain": [
       "         f(x)\n",
       "0 -3.00000000\n",
       "1 -2.75000000\n",
       "2 -3.06666667\n",
       "3 -2.86202439\n",
       "4 -2.87718594\n",
       "5 -2.87941390\n",
       "6 -2.87938519"
      ]
     },
     "execution_count": 6,
     "metadata": {},
     "output_type": "execute_result"
    }
   ],
   "source": [
    "Secant1D().run([-3, -2]).astype(np.float64)"
   ]
  },
  {
   "cell_type": "markdown",
   "metadata": {},
   "source": [
    "## (c) $x−\\cos x=0, [0, \\frac{\\pi}{2}]$"
   ]
  },
  {
   "cell_type": "code",
   "execution_count": 7,
   "metadata": {
    "ExecuteTime": {
     "end_time": "2018-02-04T12:53:58.948552Z",
     "start_time": "2018-02-04T12:53:58.912896Z"
    },
    "collapsed": true
   },
   "outputs": [],
   "source": [
    "class Secant1D(NewtonMethod):\n",
    "\n",
    "    def __init__(self):\n",
    "        super(NewtonMethod, self).__init__()\n",
    "\n",
    "    def f(self, x):\n",
    "        return x - math.cos(x)\n",
    "\n",
    "    def jacobian(self, x):\n",
    "        return 1 + math.sin(x)\n",
    "\n",
    "    def run(self, x0):\n",
    "        df = pd.DataFrame(columns=['f(x)'])\n",
    "        row = len(df)\n",
    "        p0 = x0[0]\n",
    "        p1 = x0[1]\n",
    "        q0 = self.f(p0)\n",
    "        q1 = self.f(p1)\n",
    "        x = p0\n",
    "        df.loc[row] = [x]\n",
    "        for k in range(2, MAX_ITR):\n",
    "            try:\n",
    "                y = p1 - q1 * (p1 - p0) / (q1 - q0)\n",
    "            except ValueError:\n",
    "                break\n",
    "            residual = math.fabs(y - p1)\n",
    "            p0 = p1\n",
    "            q0 = q1\n",
    "            p1 = y\n",
    "            q1 = self.f(y)\n",
    "\n",
    "            row = len(df)\n",
    "            df.loc[row] = [y]\n",
    "            if residual < TOR or x > 1e9:\n",
    "                break\n",
    "        return df"
   ]
  },
  {
   "cell_type": "code",
   "execution_count": 8,
   "metadata": {
    "ExecuteTime": {
     "end_time": "2018-02-04T12:53:58.988251Z",
     "start_time": "2018-02-04T12:53:58.950065Z"
    },
    "scrolled": true
   },
   "outputs": [
    {
     "data": {
      "text/html": [
       "<div>\n",
       "<style>\n",
       "    .dataframe thead tr:only-child th {\n",
       "        text-align: right;\n",
       "    }\n",
       "\n",
       "    .dataframe thead th {\n",
       "        text-align: left;\n",
       "    }\n",
       "\n",
       "    .dataframe tbody tr th {\n",
       "        vertical-align: top;\n",
       "    }\n",
       "</style>\n",
       "<table border=\"1\" class=\"dataframe\">\n",
       "  <thead>\n",
       "    <tr style=\"text-align: right;\">\n",
       "      <th></th>\n",
       "      <th>f(x)</th>\n",
       "    </tr>\n",
       "  </thead>\n",
       "  <tbody>\n",
       "    <tr>\n",
       "      <th>0</th>\n",
       "      <td>0.00000000</td>\n",
       "    </tr>\n",
       "    <tr>\n",
       "      <th>1</th>\n",
       "      <td>0.61101547</td>\n",
       "    </tr>\n",
       "    <tr>\n",
       "      <th>2</th>\n",
       "      <td>0.72326954</td>\n",
       "    </tr>\n",
       "    <tr>\n",
       "      <th>3</th>\n",
       "      <td>0.73956711</td>\n",
       "    </tr>\n",
       "    <tr>\n",
       "      <th>4</th>\n",
       "      <td>0.73908344</td>\n",
       "    </tr>\n",
       "    <tr>\n",
       "      <th>5</th>\n",
       "      <td>0.73908513</td>\n",
       "    </tr>\n",
       "  </tbody>\n",
       "</table>\n",
       "</div>"
      ],
      "text/plain": [
       "        f(x)\n",
       "0 0.00000000\n",
       "1 0.61101547\n",
       "2 0.72326954\n",
       "3 0.73956711\n",
       "4 0.73908344\n",
       "5 0.73908513"
      ]
     },
     "execution_count": 8,
     "metadata": {},
     "output_type": "execute_result"
    }
   ],
   "source": [
    "Secant1D().run([0, math.pi / 2.0]).astype(np.float64)"
   ]
  },
  {
   "cell_type": "markdown",
   "metadata": {},
   "source": [
    "## (d) $x − 0.8 − 0.2 \\sin x = 0, [0, \\frac{\\pi}{2}]$"
   ]
  },
  {
   "cell_type": "code",
   "execution_count": 9,
   "metadata": {
    "ExecuteTime": {
     "end_time": "2018-02-04T12:53:59.028731Z",
     "start_time": "2018-02-04T12:53:58.990221Z"
    },
    "collapsed": true
   },
   "outputs": [],
   "source": [
    "class Secant1D(NewtonMethod):\n",
    "\n",
    "    def __init__(self):\n",
    "        super(NewtonMethod, self).__init__()\n",
    "\n",
    "    def f(self, x):\n",
    "        return x - 0.8 - 0.2 * math.sin(x)\n",
    "\n",
    "    def jacobian(self, x):\n",
    "        return 1 - 0.2 * math.cos(x)\n",
    "\n",
    "    def run(self, x0):\n",
    "        df = pd.DataFrame(columns=['f(x)'])\n",
    "        row = len(df)\n",
    "        p0 = x0[0]\n",
    "        p1 = x0[1]\n",
    "        q0 = self.f(p0)\n",
    "        q1 = self.f(p1)\n",
    "        x = p0\n",
    "        df.loc[row] = [x]\n",
    "        for k in range(2, MAX_ITR):\n",
    "            try:\n",
    "                y = p1 - q1 * (p1 - p0) / (q1 - q0)\n",
    "            except ValueError:\n",
    "                break\n",
    "            residual = math.fabs(y - p1)\n",
    "            p0 = p1\n",
    "            q0 = q1\n",
    "            p1 = y\n",
    "            q1 = self.f(y)\n",
    "\n",
    "            row = len(df)\n",
    "            df.loc[row] = [y]\n",
    "            if residual < TOR or x > 1e9:\n",
    "                break\n",
    "        return df"
   ]
  },
  {
   "cell_type": "code",
   "execution_count": 10,
   "metadata": {
    "ExecuteTime": {
     "end_time": "2018-02-04T12:53:59.070723Z",
     "start_time": "2018-02-04T12:53:59.030223Z"
    },
    "scrolled": true
   },
   "outputs": [
    {
     "data": {
      "text/html": [
       "<div>\n",
       "<style>\n",
       "    .dataframe thead tr:only-child th {\n",
       "        text-align: right;\n",
       "    }\n",
       "\n",
       "    .dataframe thead th {\n",
       "        text-align: left;\n",
       "    }\n",
       "\n",
       "    .dataframe tbody tr th {\n",
       "        vertical-align: top;\n",
       "    }\n",
       "</style>\n",
       "<table border=\"1\" class=\"dataframe\">\n",
       "  <thead>\n",
       "    <tr style=\"text-align: right;\">\n",
       "      <th></th>\n",
       "      <th>f(x)</th>\n",
       "    </tr>\n",
       "  </thead>\n",
       "  <tbody>\n",
       "    <tr>\n",
       "      <th>0</th>\n",
       "      <td>0.00000000</td>\n",
       "    </tr>\n",
       "    <tr>\n",
       "      <th>1</th>\n",
       "      <td>0.91672048</td>\n",
       "    </tr>\n",
       "    <tr>\n",
       "      <th>2</th>\n",
       "      <td>0.96155133</td>\n",
       "    </tr>\n",
       "    <tr>\n",
       "      <th>3</th>\n",
       "      <td>0.96434609</td>\n",
       "    </tr>\n",
       "    <tr>\n",
       "      <th>4</th>\n",
       "      <td>0.96433388</td>\n",
       "    </tr>\n",
       "  </tbody>\n",
       "</table>\n",
       "</div>"
      ],
      "text/plain": [
       "        f(x)\n",
       "0 0.00000000\n",
       "1 0.91672048\n",
       "2 0.96155133\n",
       "3 0.96434609\n",
       "4 0.96433388"
      ]
     },
     "execution_count": 10,
     "metadata": {},
     "output_type": "execute_result"
    }
   ],
   "source": [
    "Secant1D().run([0, math.pi / 2.0]).astype(np.float64)"
   ]
  }
 ],
 "metadata": {
  "kernelspec": {
   "display_name": "Python 3",
   "language": "python",
   "name": "python3"
  },
  "language_info": {
   "codemirror_mode": {
    "name": "ipython",
    "version": 3
   },
   "file_extension": ".py",
   "mimetype": "text/x-python",
   "name": "python",
   "nbconvert_exporter": "python",
   "pygments_lexer": "ipython3",
   "version": "3.6.3"
  },
  "toc": {
   "nav_menu": {},
   "number_sections": true,
   "sideBar": true,
   "skip_h1_title": false,
   "toc_cell": true,
   "toc_position": {},
   "toc_section_display": "block",
   "toc_window_display": false
  },
  "varInspector": {
   "cols": {
    "lenName": 16,
    "lenType": 16,
    "lenVar": 40
   },
   "kernels_config": {
    "python": {
     "delete_cmd_postfix": "",
     "delete_cmd_prefix": "del ",
     "library": "var_list.py",
     "varRefreshCmd": "print(var_dic_list())"
    },
    "r": {
     "delete_cmd_postfix": ") ",
     "delete_cmd_prefix": "rm(",
     "library": "var_list.r",
     "varRefreshCmd": "cat(var_dic_list()) "
    }
   },
   "types_to_exclude": [
    "module",
    "function",
    "builtin_function_or_method",
    "instance",
    "_Feature"
   ],
   "window_display": false
  }
 },
 "nbformat": 4,
 "nbformat_minor": 2
}
