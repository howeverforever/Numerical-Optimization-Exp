{
 "cells": [
  {
   "cell_type": "markdown",
   "metadata": {
    "toc": true
   },
   "source": [
    "<h1>Table of Contents<span class=\"tocSkip\"></span></h1>\n",
    "<div class=\"toc\" style=\"margin-top: 1em;\"><ul class=\"toc-item\"><li><ul class=\"toc-item\"><li><span><a href=\"#(a)\" data-toc-modified-id=\"(a)-0.1\"><span class=\"toc-item-num\">0.1&nbsp;&nbsp;</span>(a)</a></span></li><li><span><a href=\"#(b)\" data-toc-modified-id=\"(b)-0.2\"><span class=\"toc-item-num\">0.2&nbsp;&nbsp;</span>(b)</a></span></li><li><span><a href=\"#(c)\" data-toc-modified-id=\"(c)-0.3\"><span class=\"toc-item-num\">0.3&nbsp;&nbsp;</span>(c)</a></span></li><li><span><a href=\"#(d)\" data-toc-modified-id=\"(d)-0.4\"><span class=\"toc-item-num\">0.4&nbsp;&nbsp;</span>(d)</a></span></li></ul></li></ul></div>"
   ]
  },
  {
   "cell_type": "markdown",
   "metadata": {},
   "source": [
    "Use Theorem 10.6 to show that $G : D \\subset \\mathbb{R}^3 \\to \\mathbb{R}^3$ has a unique fixed point in $D$ Apply functional\n",
    "iteration to approximate the solution to within $10^{−5}$ , using the $l_{\\infty}$ norm."
   ]
  },
  {
   "cell_type": "code",
   "execution_count": 1,
   "metadata": {
    "ExecuteTime": {
     "end_time": "2018-02-05T03:40:03.028083Z",
     "start_time": "2018-02-05T03:40:02.705009Z"
    },
    "collapsed": true
   },
   "outputs": [],
   "source": [
    "import numpy as np\n",
    "from numpy import linalg\n",
    "from abc import abstractmethod\n",
    "import pandas as pd\n",
    "import math\n",
    "\n",
    "pd.options.display.float_format = '{:,.8f}'.format\n",
    "np.set_printoptions(suppress=True, precision=8)\n",
    "\n",
    "TOR = pow(10.0, -5)\n",
    "MAX_ITR = 150"
   ]
  },
  {
   "cell_type": "code",
   "execution_count": 2,
   "metadata": {
    "ExecuteTime": {
     "end_time": "2018-02-05T03:40:03.036229Z",
     "start_time": "2018-02-05T03:40:03.030643Z"
    },
    "collapsed": true
   },
   "outputs": [],
   "source": [
    "class FixedPointMethod(object):\n",
    "\n",
    "    def __init__(self):\n",
    "        return\n",
    "\n",
    "    @abstractmethod\n",
    "    def f(self, x):\n",
    "        return NotImplementedError('Implement f()!')\n",
    "\n",
    "    @abstractmethod\n",
    "    def run(self, x):\n",
    "        return NotImplementedError('Implement run()!')"
   ]
  },
  {
   "cell_type": "markdown",
   "metadata": {},
   "source": [
    "## (a)\n",
    "$$G(x_1, x_2, x_3) = \\left(\\frac{\\cos(x_2 x_3) + 0.5}{3},\\frac{1}{25}\\sqrt{x_1^2 + 0.3125} − 0.03, − \\frac{1}{20}\\exp^{−x_1 x_2 } −\\frac{10\\pi−3}{60}\\right)$$"
   ]
  },
  {
   "cell_type": "code",
   "execution_count": 3,
   "metadata": {
    "ExecuteTime": {
     "end_time": "2018-02-05T03:40:03.115610Z",
     "start_time": "2018-02-05T03:40:03.037644Z"
    },
    "collapsed": true
   },
   "outputs": [],
   "source": [
    "class FixedPoint(FixedPointMethod):\n",
    "\n",
    "    def __init__(self):\n",
    "        super(FixedPointMethod, self).__init__()\n",
    "\n",
    "    def f(self, x):\n",
    "        sol = np.zeros(len(x))\n",
    "        sol[0] = (math.cos(x[1] * x[2]) + 0.5) / 3.0\n",
    "        sol[1] = math.sqrt(x[0] * x[0] + 0.3125) / 25.0 - 0.03\n",
    "        sol[2] = -1.0 / 20.0 * math.exp(-x[0] * x[1]) - (10 * math.pi - 3) / 60.0\n",
    "        return sol\n",
    "\n",
    "    def run(self, x):\n",
    "        df = pd.DataFrame(columns=['x' + str(i + 1) for i in range(len(x))] + ['residual', 'actual-residual'])\n",
    "\n",
    "        row = len(df)\n",
    "        df.loc[row] = [xe for xe in x] + [np.nan, np.nan]\n",
    "\n",
    "        while True:\n",
    "            y = self.f(x)\n",
    "            residual = linalg.norm(x - y, np.inf)\n",
    "            x = y\n",
    "\n",
    "            row = len(df)\n",
    "            df.loc[row] = [ye for ye in y] + [residual, np.nan]\n",
    "            if residual < TOR:\n",
    "                break\n",
    "\n",
    "        for i in range(len(df)):\n",
    "            xk = np.array([df.loc[i][j] for j in range(len(x))])\n",
    "            df.loc[i][4] = linalg.norm(x - xk, np.inf)\n",
    "\n",
    "        return df"
   ]
  },
  {
   "cell_type": "code",
   "execution_count": 4,
   "metadata": {
    "ExecuteTime": {
     "end_time": "2018-02-05T03:40:03.196020Z",
     "start_time": "2018-02-05T03:40:03.117225Z"
    },
    "scrolled": true
   },
   "outputs": [
    {
     "data": {
      "text/html": [
       "<div>\n",
       "<style>\n",
       "    .dataframe thead tr:only-child th {\n",
       "        text-align: right;\n",
       "    }\n",
       "\n",
       "    .dataframe thead th {\n",
       "        text-align: left;\n",
       "    }\n",
       "\n",
       "    .dataframe tbody tr th {\n",
       "        vertical-align: top;\n",
       "    }\n",
       "</style>\n",
       "<table border=\"1\" class=\"dataframe\">\n",
       "  <thead>\n",
       "    <tr style=\"text-align: right;\">\n",
       "      <th></th>\n",
       "      <th>x1</th>\n",
       "      <th>x2</th>\n",
       "      <th>x3</th>\n",
       "      <th>residual</th>\n",
       "      <th>actual-residual</th>\n",
       "    </tr>\n",
       "  </thead>\n",
       "  <tbody>\n",
       "    <tr>\n",
       "      <th>0</th>\n",
       "      <td>0.00000000</td>\n",
       "      <td>0.00000000</td>\n",
       "      <td>0.00000000</td>\n",
       "      <td>nan</td>\n",
       "      <td>0.52359878</td>\n",
       "    </tr>\n",
       "    <tr>\n",
       "      <th>1</th>\n",
       "      <td>0.50000000</td>\n",
       "      <td>-0.00763932</td>\n",
       "      <td>-0.52359878</td>\n",
       "      <td>0.52359878</td>\n",
       "      <td>0.00763932</td>\n",
       "    </tr>\n",
       "    <tr>\n",
       "      <th>2</th>\n",
       "      <td>0.49999733</td>\n",
       "      <td>0.00000000</td>\n",
       "      <td>-0.52379012</td>\n",
       "      <td>0.00763932</td>\n",
       "      <td>0.00019135</td>\n",
       "    </tr>\n",
       "    <tr>\n",
       "      <th>3</th>\n",
       "      <td>0.50000000</td>\n",
       "      <td>-0.00000007</td>\n",
       "      <td>-0.52359878</td>\n",
       "      <td>0.00019135</td>\n",
       "      <td>0.00000007</td>\n",
       "    </tr>\n",
       "    <tr>\n",
       "      <th>4</th>\n",
       "      <td>0.50000000</td>\n",
       "      <td>0.00000000</td>\n",
       "      <td>-0.52359878</td>\n",
       "      <td>0.00000007</td>\n",
       "      <td>0.00000000</td>\n",
       "    </tr>\n",
       "  </tbody>\n",
       "</table>\n",
       "</div>"
      ],
      "text/plain": [
       "          x1          x2          x3   residual  actual-residual\n",
       "0 0.00000000  0.00000000  0.00000000        nan       0.52359878\n",
       "1 0.50000000 -0.00763932 -0.52359878 0.52359878       0.00763932\n",
       "2 0.49999733  0.00000000 -0.52379012 0.00763932       0.00019135\n",
       "3 0.50000000 -0.00000007 -0.52359878 0.00019135       0.00000007\n",
       "4 0.50000000  0.00000000 -0.52359878 0.00000007       0.00000000"
      ]
     },
     "execution_count": 4,
     "metadata": {},
     "output_type": "execute_result"
    }
   ],
   "source": [
    "x0 = np.array([0, 0, 0])\n",
    "FixedPoint().run(x0)"
   ]
  },
  {
   "cell_type": "markdown",
   "metadata": {},
   "source": [
    "## (b) \n",
    "$$ G(x_1, x_2, x_3) = \\left(\\frac{13-x_2^2+4x_3}{15}, \\frac{11+x_3-x_1^2}{10}, \\frac{22+x_2^3}{25}\\right)$$"
   ]
  },
  {
   "cell_type": "code",
   "execution_count": 5,
   "metadata": {
    "ExecuteTime": {
     "end_time": "2018-02-05T03:40:03.238824Z",
     "start_time": "2018-02-05T03:40:03.197434Z"
    },
    "collapsed": true
   },
   "outputs": [],
   "source": [
    "class FixedPoint(FixedPointMethod):\n",
    "\n",
    "    def __init__(self):\n",
    "        super(FixedPointMethod, self).__init__()\n",
    "\n",
    "    def f(self, x):\n",
    "        sol = np.zeros(len(x))\n",
    "        sol[0] = (13 - pow(x[1], 2) + 4 * x[2]) /15.0\n",
    "        sol[1] = (11 + x[2] - pow(x[0], 2)) /10.0 \n",
    "        sol[2] = (22 + pow(x[1], 3)) / 25.0\n",
    "        return sol\n",
    "\n",
    "    def run(self, x):\n",
    "        df = pd.DataFrame(columns=['x' + str(i + 1) for i in range(len(x))] + ['residual', 'actual-residual'])\n",
    "\n",
    "        row = len(df)\n",
    "        df.loc[row] = [xe for xe in x] + [np.nan, np.nan]\n",
    "\n",
    "        while True:\n",
    "            y = self.f(x)\n",
    "            residual = linalg.norm(x - y, np.inf)\n",
    "            x = y\n",
    "\n",
    "            row = len(df)\n",
    "            df.loc[row] = [ye for ye in y] + [residual, np.nan]\n",
    "            if residual < TOR:\n",
    "                break\n",
    "\n",
    "        for i in range(len(df)):\n",
    "            xk = np.array([df.loc[i][j] for j in range(len(x))])\n",
    "            df.loc[i][4] = linalg.norm(x - xk, np.inf)\n",
    "\n",
    "        return df"
   ]
  },
  {
   "cell_type": "code",
   "execution_count": 6,
   "metadata": {
    "ExecuteTime": {
     "end_time": "2018-02-05T03:40:03.314755Z",
     "start_time": "2018-02-05T03:40:03.241383Z"
    },
    "scrolled": true
   },
   "outputs": [
    {
     "data": {
      "text/html": [
       "<div>\n",
       "<style>\n",
       "    .dataframe thead tr:only-child th {\n",
       "        text-align: right;\n",
       "    }\n",
       "\n",
       "    .dataframe thead th {\n",
       "        text-align: left;\n",
       "    }\n",
       "\n",
       "    .dataframe tbody tr th {\n",
       "        vertical-align: top;\n",
       "    }\n",
       "</style>\n",
       "<table border=\"1\" class=\"dataframe\">\n",
       "  <thead>\n",
       "    <tr style=\"text-align: right;\">\n",
       "      <th></th>\n",
       "      <th>x1</th>\n",
       "      <th>x2</th>\n",
       "      <th>x3</th>\n",
       "      <th>residual</th>\n",
       "      <th>actual-residual</th>\n",
       "    </tr>\n",
       "  </thead>\n",
       "  <tbody>\n",
       "    <tr>\n",
       "      <th>0</th>\n",
       "      <td>0.75000000</td>\n",
       "      <td>0.75000000</td>\n",
       "      <td>0.75000000</td>\n",
       "      <td>nan</td>\n",
       "      <td>0.33570732</td>\n",
       "    </tr>\n",
       "    <tr>\n",
       "      <th>1</th>\n",
       "      <td>1.02916667</td>\n",
       "      <td>1.11875000</td>\n",
       "      <td>0.89687500</td>\n",
       "      <td>0.36875000</td>\n",
       "      <td>0.03431600</td>\n",
       "    </tr>\n",
       "    <tr>\n",
       "      <th>2</th>\n",
       "      <td>1.02239323</td>\n",
       "      <td>1.08376910</td>\n",
       "      <td>0.93600917</td>\n",
       "      <td>0.03913417</td>\n",
       "      <td>0.01400807</td>\n",
       "    </tr>\n",
       "    <tr>\n",
       "      <th>3</th>\n",
       "      <td>1.03796541</td>\n",
       "      <td>1.08907213</td>\n",
       "      <td>0.93091788</td>\n",
       "      <td>0.01557219</td>\n",
       "      <td>0.00336481</td>\n",
       "    </tr>\n",
       "    <tr>\n",
       "      <th>4</th>\n",
       "      <td>1.03583956</td>\n",
       "      <td>1.08535457</td>\n",
       "      <td>0.93166898</td>\n",
       "      <td>0.00371756</td>\n",
       "      <td>0.00056174</td>\n",
       "    </tr>\n",
       "    <tr>\n",
       "      <th>5</th>\n",
       "      <td>1.03657876</td>\n",
       "      <td>1.08587054</td>\n",
       "      <td>0.93114167</td>\n",
       "      <td>0.00073920</td>\n",
       "      <td>0.00017746</td>\n",
       "    </tr>\n",
       "    <tr>\n",
       "      <th>6</th>\n",
       "      <td>1.03636346</td>\n",
       "      <td>1.08566461</td>\n",
       "      <td>0.93121464</td>\n",
       "      <td>0.00021530</td>\n",
       "      <td>0.00004271</td>\n",
       "    </tr>\n",
       "    <tr>\n",
       "      <th>7</th>\n",
       "      <td>1.03641273</td>\n",
       "      <td>1.08571654</td>\n",
       "      <td>0.93118551</td>\n",
       "      <td>0.00005193</td>\n",
       "      <td>0.00001143</td>\n",
       "    </tr>\n",
       "    <tr>\n",
       "      <th>8</th>\n",
       "      <td>1.03639744</td>\n",
       "      <td>1.08570342</td>\n",
       "      <td>0.93119286</td>\n",
       "      <td>0.00001529</td>\n",
       "      <td>0.00000390</td>\n",
       "    </tr>\n",
       "    <tr>\n",
       "      <th>9</th>\n",
       "      <td>1.03640130</td>\n",
       "      <td>1.08570732</td>\n",
       "      <td>0.93119100</td>\n",
       "      <td>0.00000390</td>\n",
       "      <td>0.00000000</td>\n",
       "    </tr>\n",
       "  </tbody>\n",
       "</table>\n",
       "</div>"
      ],
      "text/plain": [
       "          x1         x2         x3   residual  actual-residual\n",
       "0 0.75000000 0.75000000 0.75000000        nan       0.33570732\n",
       "1 1.02916667 1.11875000 0.89687500 0.36875000       0.03431600\n",
       "2 1.02239323 1.08376910 0.93600917 0.03913417       0.01400807\n",
       "3 1.03796541 1.08907213 0.93091788 0.01557219       0.00336481\n",
       "4 1.03583956 1.08535457 0.93166898 0.00371756       0.00056174\n",
       "5 1.03657876 1.08587054 0.93114167 0.00073920       0.00017746\n",
       "6 1.03636346 1.08566461 0.93121464 0.00021530       0.00004271\n",
       "7 1.03641273 1.08571654 0.93118551 0.00005193       0.00001143\n",
       "8 1.03639744 1.08570342 0.93119286 0.00001529       0.00000390\n",
       "9 1.03640130 1.08570732 0.93119100 0.00000390       0.00000000"
      ]
     },
     "execution_count": 6,
     "metadata": {},
     "output_type": "execute_result"
    }
   ],
   "source": [
    "x0 = np.array([0.75, 0.75, 0.75])\n",
    "FixedPoint().run(x0)"
   ]
  },
  {
   "cell_type": "markdown",
   "metadata": {},
   "source": [
    "## (c) \n",
    "$$ G(x_1, x_2, x_3) = \\left( 1-\\cos(x_1 x_2 x_3), 1-(1-x_1)^{\\frac{1}{4}} - 0.05x_3^2+0.15x_3, x_1^2+0.1x_2^2-0.01x_2+1 \\right) $$"
   ]
  },
  {
   "cell_type": "code",
   "execution_count": 7,
   "metadata": {
    "ExecuteTime": {
     "end_time": "2018-02-05T03:40:03.361193Z",
     "start_time": "2018-02-05T03:40:03.316155Z"
    },
    "collapsed": true
   },
   "outputs": [],
   "source": [
    "class FixedPoint(FixedPointMethod):\n",
    "\n",
    "    def __init__(self):\n",
    "        super(FixedPointMethod, self).__init__()\n",
    "\n",
    "    def f(self, x):\n",
    "        sol = np.zeros(len(x))\n",
    "        sol[0] = 1 - math.cos(x[0] * x[1] * x[2])\n",
    "        sol[1] = 1 - pow((1 - x[0]), 1 / 4) - 0.05 * pow(x[2], 2) + 0.15 * x[2]\n",
    "        sol[2] = pow(x[0], 2) + 0.1 * pow(x[1], 2) - 0.01 * x[1] + 1\n",
    "        return sol\n",
    "\n",
    "    def run(self, x):\n",
    "        df = pd.DataFrame(columns=['x' + str(i + 1) for i in range(len(x))] + ['residual', 'actual-residual'])\n",
    "\n",
    "        row = len(df)\n",
    "        df.loc[row] = [xe for xe in x] + [np.nan, np.nan]\n",
    "\n",
    "        while True:\n",
    "            y = self.f(x)\n",
    "            residual = linalg.norm(x - y, np.inf)\n",
    "            x = y\n",
    "\n",
    "            row = len(df)\n",
    "            df.loc[row] = [ye for ye in y] + [residual, np.nan]\n",
    "            if residual < TOR:\n",
    "                break\n",
    "\n",
    "        for i in range(len(df)):\n",
    "            xk = np.array([df.loc[i][j] for j in range(len(x))])\n",
    "            df.loc[i][4] = linalg.norm(x - xk, np.inf)\n",
    "\n",
    "        return df"
   ]
  },
  {
   "cell_type": "code",
   "execution_count": 8,
   "metadata": {
    "ExecuteTime": {
     "end_time": "2018-02-05T03:40:03.426983Z",
     "start_time": "2018-02-05T03:40:03.362661Z"
    },
    "scrolled": true
   },
   "outputs": [
    {
     "data": {
      "text/html": [
       "<div>\n",
       "<style>\n",
       "    .dataframe thead tr:only-child th {\n",
       "        text-align: right;\n",
       "    }\n",
       "\n",
       "    .dataframe thead th {\n",
       "        text-align: left;\n",
       "    }\n",
       "\n",
       "    .dataframe tbody tr th {\n",
       "        vertical-align: top;\n",
       "    }\n",
       "</style>\n",
       "<table border=\"1\" class=\"dataframe\">\n",
       "  <thead>\n",
       "    <tr style=\"text-align: right;\">\n",
       "      <th></th>\n",
       "      <th>x1</th>\n",
       "      <th>x2</th>\n",
       "      <th>x3</th>\n",
       "      <th>residual</th>\n",
       "      <th>actual-residual</th>\n",
       "    </tr>\n",
       "  </thead>\n",
       "  <tbody>\n",
       "    <tr>\n",
       "      <th>0</th>\n",
       "      <td>0.00000000</td>\n",
       "      <td>0.00000000</td>\n",
       "      <td>0.00000000</td>\n",
       "      <td>nan</td>\n",
       "      <td>1.00000000</td>\n",
       "    </tr>\n",
       "    <tr>\n",
       "      <th>1</th>\n",
       "      <td>0.00000000</td>\n",
       "      <td>0.00000000</td>\n",
       "      <td>1.00000000</td>\n",
       "      <td>1.00000000</td>\n",
       "      <td>0.10000000</td>\n",
       "    </tr>\n",
       "    <tr>\n",
       "      <th>2</th>\n",
       "      <td>0.00000000</td>\n",
       "      <td>0.10000000</td>\n",
       "      <td>1.00000000</td>\n",
       "      <td>0.10000000</td>\n",
       "      <td>0.00000000</td>\n",
       "    </tr>\n",
       "    <tr>\n",
       "      <th>3</th>\n",
       "      <td>0.00000000</td>\n",
       "      <td>0.10000000</td>\n",
       "      <td>1.00000000</td>\n",
       "      <td>0.00000000</td>\n",
       "      <td>0.00000000</td>\n",
       "    </tr>\n",
       "  </tbody>\n",
       "</table>\n",
       "</div>"
      ],
      "text/plain": [
       "          x1         x2         x3   residual  actual-residual\n",
       "0 0.00000000 0.00000000 0.00000000        nan       1.00000000\n",
       "1 0.00000000 0.00000000 1.00000000 1.00000000       0.10000000\n",
       "2 0.00000000 0.10000000 1.00000000 0.10000000       0.00000000\n",
       "3 0.00000000 0.10000000 1.00000000 0.00000000       0.00000000"
      ]
     },
     "execution_count": 8,
     "metadata": {},
     "output_type": "execute_result"
    }
   ],
   "source": [
    "x0 = np.array([0, 0, 0])\n",
    "FixedPoint().run(x0)"
   ]
  },
  {
   "cell_type": "markdown",
   "metadata": {},
   "source": [
    "## (d)\n",
    "$$ G(x_1, x_2, x_3) = \\left( \\frac{1}{3}\\cos(x_2 x_3)+\\frac{1}{6}, -\\frac{1}{9}\\sqrt{x_1^2+\\sin x_3 +1.06}-0.1,− \\frac{1}{20}\\exp^{−x_1 x_2 } −\\frac{10\\pi−3}{60} \\right) $$"
   ]
  },
  {
   "cell_type": "code",
   "execution_count": 9,
   "metadata": {
    "ExecuteTime": {
     "end_time": "2018-02-05T03:40:03.474473Z",
     "start_time": "2018-02-05T03:40:03.428440Z"
    },
    "collapsed": true
   },
   "outputs": [],
   "source": [
    "class FixedPoint(FixedPointMethod):\n",
    "\n",
    "    def __init__(self):\n",
    "        super(FixedPointMethod, self).__init__()\n",
    "\n",
    "    def f(self, x):\n",
    "        sol = np.zeros(len(x))\n",
    "        sol[0] = math.cos(x[1] * x[2]) / 3.0 + 1.0 / 6.0\n",
    "        sol[1] = - 1 / 9 * math.sqrt(pow(x[0], 2) + math.sin(x[2]) + 1.06) - 0.1\n",
    "        sol[2] = -1.0 / 20.0 * math.exp(-x[0] * x[1]) - (10 * math.pi - 3) / 60.0\n",
    "        return sol\n",
    "\n",
    "    def run(self, x):\n",
    "        df = pd.DataFrame(columns=['x' + str(i + 1) for i in range(len(x))] + ['residual', 'actual-residual'])\n",
    "\n",
    "        row = len(df)\n",
    "        df.loc[row] = [xe for xe in x] + [np.nan, np.nan]\n",
    "\n",
    "        while True:\n",
    "            y = self.f(x)\n",
    "            residual = linalg.norm(x - y, np.inf)\n",
    "            x = y\n",
    "\n",
    "            row = len(df)\n",
    "            df.loc[row] = [ye for ye in y] + [residual, np.nan]\n",
    "            if residual < TOR:\n",
    "                break\n",
    "\n",
    "        for i in range(len(df)):\n",
    "            xk = np.array([df.loc[i][j] for j in range(len(x))])\n",
    "            df.loc[i][4] = linalg.norm(x - xk, np.inf)\n",
    "\n",
    "        return df"
   ]
  },
  {
   "cell_type": "code",
   "execution_count": 10,
   "metadata": {
    "ExecuteTime": {
     "end_time": "2018-02-05T03:40:03.573457Z",
     "start_time": "2018-02-05T03:40:03.475736Z"
    },
    "scrolled": true
   },
   "outputs": [
    {
     "data": {
      "text/html": [
       "<div>\n",
       "<style>\n",
       "    .dataframe thead tr:only-child th {\n",
       "        text-align: right;\n",
       "    }\n",
       "\n",
       "    .dataframe thead th {\n",
       "        text-align: left;\n",
       "    }\n",
       "\n",
       "    .dataframe tbody tr th {\n",
       "        vertical-align: top;\n",
       "    }\n",
       "</style>\n",
       "<table border=\"1\" class=\"dataframe\">\n",
       "  <thead>\n",
       "    <tr style=\"text-align: right;\">\n",
       "      <th></th>\n",
       "      <th>x1</th>\n",
       "      <th>x2</th>\n",
       "      <th>x3</th>\n",
       "      <th>residual</th>\n",
       "      <th>actual-residual</th>\n",
       "    </tr>\n",
       "  </thead>\n",
       "  <tbody>\n",
       "    <tr>\n",
       "      <th>0</th>\n",
       "      <td>0.00000000</td>\n",
       "      <td>0.00000000</td>\n",
       "      <td>0.00000000</td>\n",
       "      <td>nan</td>\n",
       "      <td>0.52882596</td>\n",
       "    </tr>\n",
       "    <tr>\n",
       "      <th>1</th>\n",
       "      <td>0.50000000</td>\n",
       "      <td>-0.21439589</td>\n",
       "      <td>-0.52359878</td>\n",
       "      <td>0.52359878</td>\n",
       "      <td>0.01478989</td>\n",
       "    </tr>\n",
       "    <tr>\n",
       "      <th>2</th>\n",
       "      <td>0.49790192</td>\n",
       "      <td>-0.20000000</td>\n",
       "      <td>-0.52925650</td>\n",
       "      <td>0.01439589</td>\n",
       "      <td>0.00043055</td>\n",
       "    </tr>\n",
       "    <tr>\n",
       "      <th>3</th>\n",
       "      <td>0.49813433</td>\n",
       "      <td>-0.19956787</td>\n",
       "      <td>-0.52883414</td>\n",
       "      <td>0.00043213</td>\n",
       "      <td>0.00003813</td>\n",
       "    </tr>\n",
       "    <tr>\n",
       "      <th>4</th>\n",
       "      <td>0.49814533</td>\n",
       "      <td>-0.19960482</td>\n",
       "      <td>-0.52882482</td>\n",
       "      <td>0.00003695</td>\n",
       "      <td>0.00000118</td>\n",
       "    </tr>\n",
       "    <tr>\n",
       "      <th>5</th>\n",
       "      <td>0.49814471</td>\n",
       "      <td>-0.19960600</td>\n",
       "      <td>-0.52882596</td>\n",
       "      <td>0.00000118</td>\n",
       "      <td>0.00000000</td>\n",
       "    </tr>\n",
       "  </tbody>\n",
       "</table>\n",
       "</div>"
      ],
      "text/plain": [
       "          x1          x2          x3   residual  actual-residual\n",
       "0 0.00000000  0.00000000  0.00000000        nan       0.52882596\n",
       "1 0.50000000 -0.21439589 -0.52359878 0.52359878       0.01478989\n",
       "2 0.49790192 -0.20000000 -0.52925650 0.01439589       0.00043055\n",
       "3 0.49813433 -0.19956787 -0.52883414 0.00043213       0.00003813\n",
       "4 0.49814533 -0.19960482 -0.52882482 0.00003695       0.00000118\n",
       "5 0.49814471 -0.19960600 -0.52882596 0.00000118       0.00000000"
      ]
     },
     "execution_count": 10,
     "metadata": {},
     "output_type": "execute_result"
    }
   ],
   "source": [
    "x0 = np.array([0, 0, 0])\n",
    "FixedPoint().run(x0)"
   ]
  }
 ],
 "metadata": {
  "kernelspec": {
   "display_name": "Python 3",
   "language": "python",
   "name": "python3"
  },
  "language_info": {
   "codemirror_mode": {
    "name": "ipython",
    "version": 3
   },
   "file_extension": ".py",
   "mimetype": "text/x-python",
   "name": "python",
   "nbconvert_exporter": "python",
   "pygments_lexer": "ipython3",
   "version": "3.6.3"
  },
  "toc": {
   "nav_menu": {},
   "number_sections": true,
   "sideBar": true,
   "skip_h1_title": false,
   "toc_cell": true,
   "toc_position": {},
   "toc_section_display": "block",
   "toc_window_display": false
  },
  "varInspector": {
   "cols": {
    "lenName": 16,
    "lenType": 16,
    "lenVar": 40
   },
   "kernels_config": {
    "python": {
     "delete_cmd_postfix": "",
     "delete_cmd_prefix": "del ",
     "library": "var_list.py",
     "varRefreshCmd": "print(var_dic_list())"
    },
    "r": {
     "delete_cmd_postfix": ") ",
     "delete_cmd_prefix": "rm(",
     "library": "var_list.r",
     "varRefreshCmd": "cat(var_dic_list()) "
    }
   },
   "types_to_exclude": [
    "module",
    "function",
    "builtin_function_or_method",
    "instance",
    "_Feature"
   ],
   "window_display": false
  }
 },
 "nbformat": 4,
 "nbformat_minor": 2
}
