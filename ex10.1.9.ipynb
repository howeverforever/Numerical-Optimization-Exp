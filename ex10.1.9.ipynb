{
 "cells": [
  {
   "cell_type": "markdown",
   "metadata": {
    "toc": true
   },
   "source": [
    "<h1>Table of Contents<span class=\"tocSkip\"></span></h1>\n",
    "<div class=\"toc\" style=\"margin-top: 1em;\"><ul class=\"toc-item\"><li><ul class=\"toc-item\"><li><span><a href=\"#(a)\" data-toc-modified-id=\"(a)-0.1\"><span class=\"toc-item-num\">0.1&nbsp;&nbsp;</span>(a)</a></span></li><li><span><a href=\"#(b)\" data-toc-modified-id=\"(b)-0.2\"><span class=\"toc-item-num\">0.2&nbsp;&nbsp;</span>(b)</a></span></li><li><span><a href=\"#(c)\" data-toc-modified-id=\"(c)-0.3\"><span class=\"toc-item-num\">0.3&nbsp;&nbsp;</span>(c)</a></span></li><li><span><a href=\"#(d)\" data-toc-modified-id=\"(d)-0.4\"><span class=\"toc-item-num\">0.4&nbsp;&nbsp;</span>(d)</a></span></li></ul></li></ul></div>"
   ]
  },
  {
   "cell_type": "markdown",
   "metadata": {},
   "source": [
    "Use the Gauss-Seidel method to approximate the fixed points in Exercise 7 to within $10^{−5}$ , using the\n",
    "$l_{\\infty}$ norm."
   ]
  },
  {
   "cell_type": "code",
   "execution_count": 1,
   "metadata": {
    "ExecuteTime": {
     "end_time": "2018-02-05T03:47:23.313157Z",
     "start_time": "2018-02-05T03:47:23.041714Z"
    },
    "collapsed": true
   },
   "outputs": [],
   "source": [
    "import numpy as np\n",
    "from numpy import linalg\n",
    "from abc import abstractmethod\n",
    "import pandas as pd\n",
    "import math\n",
    "\n",
    "pd.options.display.float_format = '{:,.8f}'.format\n",
    "np.set_printoptions(suppress=True, precision=8)\n",
    "\n",
    "TOR = pow(10.0, -5)\n",
    "MAX_ITR = 150"
   ]
  },
  {
   "cell_type": "code",
   "execution_count": 2,
   "metadata": {
    "ExecuteTime": {
     "end_time": "2018-02-05T03:47:23.321442Z",
     "start_time": "2018-02-05T03:47:23.315481Z"
    },
    "collapsed": true
   },
   "outputs": [],
   "source": [
    "class FixedPointMethod(object):\n",
    "\n",
    "    def __init__(self):\n",
    "        return\n",
    "\n",
    "    @abstractmethod\n",
    "    def f(self, x):\n",
    "        return NotImplementedError('Implement f()!')\n",
    "\n",
    "    @abstractmethod\n",
    "    def run(self, x):\n",
    "        return NotImplementedError('Implement run()!')"
   ]
  },
  {
   "cell_type": "markdown",
   "metadata": {},
   "source": [
    "## (a) \n",
    "$$G(x_1, x_2, x_3) = \\left(\\frac{\\cos(x_2 x_3) + 0.5}{3},\\frac{1}{25}\\sqrt{x_1^2 + 0.3125} − 0.03, − \\frac{1}{20}\\exp^{−x_1 x_2 } −\\frac{10\\pi−3}{60}\\right)$$"
   ]
  },
  {
   "cell_type": "code",
   "execution_count": 3,
   "metadata": {
    "ExecuteTime": {
     "end_time": "2018-02-05T03:47:23.377769Z",
     "start_time": "2018-02-05T03:47:23.323314Z"
    },
    "collapsed": true
   },
   "outputs": [],
   "source": [
    "class FixedPointAcceleration(FixedPointMethod):\n",
    "\n",
    "    def __init__(self):\n",
    "        super(FixedPointMethod, self).__init__()\n",
    "\n",
    "    def f(self, x):\n",
    "        sol = np.zeros(len(x))\n",
    "        sol[0] = (math.cos(x[1] * x[2]) + 0.5) / 3.0\n",
    "        sol[1] = math.sqrt(sol[0] * sol[0] + 0.3125) / 25.0 - 0.03\n",
    "        sol[2] = -1.0 / 20.0 * math.exp(-sol[0] * sol[1]) - (10 * math.pi - 3) / 60.0\n",
    "        return sol\n",
    "\n",
    "    def run(self, x):\n",
    "        df = pd.DataFrame(columns=['x' + str(i + 1) for i in range(len(x))] + ['residual', 'actual-residual'])\n",
    "\n",
    "        row = len(df)\n",
    "        df.loc[row] = [xe for xe in x] + [np.nan, np.nan]\n",
    "\n",
    "        while True:\n",
    "            y = self.f(x)\n",
    "            residual = linalg.norm(x - y, np.inf)\n",
    "            x = y\n",
    "\n",
    "            row = len(df)\n",
    "            df.loc[row] = [ye for ye in y] + [residual, np.nan]\n",
    "            if residual < TOR:\n",
    "                break\n",
    "\n",
    "        for i in range(len(df)):\n",
    "            xk = np.array([df.loc[i][j] for j in range(len(x))])\n",
    "            df.loc[i][4] = linalg.norm(x - xk, np.inf)\n",
    "\n",
    "        return df"
   ]
  },
  {
   "cell_type": "code",
   "execution_count": 4,
   "metadata": {
    "ExecuteTime": {
     "end_time": "2018-02-05T03:47:23.432393Z",
     "start_time": "2018-02-05T03:47:23.379277Z"
    },
    "scrolled": true
   },
   "outputs": [
    {
     "data": {
      "text/html": [
       "<div>\n",
       "<style>\n",
       "    .dataframe thead tr:only-child th {\n",
       "        text-align: right;\n",
       "    }\n",
       "\n",
       "    .dataframe thead th {\n",
       "        text-align: left;\n",
       "    }\n",
       "\n",
       "    .dataframe tbody tr th {\n",
       "        vertical-align: top;\n",
       "    }\n",
       "</style>\n",
       "<table border=\"1\" class=\"dataframe\">\n",
       "  <thead>\n",
       "    <tr style=\"text-align: right;\">\n",
       "      <th></th>\n",
       "      <th>x1</th>\n",
       "      <th>x2</th>\n",
       "      <th>x3</th>\n",
       "      <th>residual</th>\n",
       "      <th>actual-residual</th>\n",
       "    </tr>\n",
       "  </thead>\n",
       "  <tbody>\n",
       "    <tr>\n",
       "      <th>0</th>\n",
       "      <td>0.00000000</td>\n",
       "      <td>0.00000000</td>\n",
       "      <td>0.00000000</td>\n",
       "      <td>nan</td>\n",
       "      <td>0.52359878</td>\n",
       "    </tr>\n",
       "    <tr>\n",
       "      <th>1</th>\n",
       "      <td>0.50000000</td>\n",
       "      <td>0.00000000</td>\n",
       "      <td>-0.52359878</td>\n",
       "      <td>0.52359878</td>\n",
       "      <td>0.00000000</td>\n",
       "    </tr>\n",
       "    <tr>\n",
       "      <th>2</th>\n",
       "      <td>0.50000000</td>\n",
       "      <td>0.00000000</td>\n",
       "      <td>-0.52359878</td>\n",
       "      <td>0.00000000</td>\n",
       "      <td>0.00000000</td>\n",
       "    </tr>\n",
       "  </tbody>\n",
       "</table>\n",
       "</div>"
      ],
      "text/plain": [
       "          x1         x2          x3   residual  actual-residual\n",
       "0 0.00000000 0.00000000  0.00000000        nan       0.52359878\n",
       "1 0.50000000 0.00000000 -0.52359878 0.52359878       0.00000000\n",
       "2 0.50000000 0.00000000 -0.52359878 0.00000000       0.00000000"
      ]
     },
     "execution_count": 4,
     "metadata": {},
     "output_type": "execute_result"
    }
   ],
   "source": [
    "x0 = np.array([0, 0, 0])\n",
    "FixedPointAcceleration().run(x0)"
   ]
  },
  {
   "cell_type": "markdown",
   "metadata": {},
   "source": [
    "## (b) \n",
    "$$ G(x_1, x_2, x_3) = \\left(\\frac{13-x_2^2+4x_3}{15}, \\frac{11+x_3-x_1^2}{10}, \\frac{22+x_2^3}{25}\\right)$$"
   ]
  },
  {
   "cell_type": "code",
   "execution_count": 5,
   "metadata": {
    "ExecuteTime": {
     "end_time": "2018-02-05T03:47:23.483039Z",
     "start_time": "2018-02-05T03:47:23.433937Z"
    },
    "collapsed": true
   },
   "outputs": [],
   "source": [
    "class FixedPointAcceleration(FixedPointMethod):\n",
    "\n",
    "    def __init__(self):\n",
    "        super(FixedPointMethod, self).__init__()\n",
    "\n",
    "    def f(self, x):\n",
    "        sol = np.zeros(len(x))\n",
    "        sol[0] = (13 - pow(x[1], 2) + 4 * x[2]) /15.0\n",
    "        sol[1] = (11 + x[2] - pow(sol[0], 2)) /10.0 \n",
    "        sol[2] = (22 + pow(sol[1], 3)) / 25.0\n",
    "        return sol\n",
    "\n",
    "    def run(self, x):\n",
    "        df = pd.DataFrame(columns=['x' + str(i + 1) for i in range(len(x))] + ['residual', 'actual-residual'])\n",
    "\n",
    "        row = len(df)\n",
    "        df.loc[row] = [xe for xe in x] + [np.nan, np.nan]\n",
    "\n",
    "        while True:\n",
    "            y = self.f(x)\n",
    "            residual = linalg.norm(x - y, np.inf)\n",
    "            x = y\n",
    "\n",
    "            row = len(df)\n",
    "            df.loc[row] = [ye for ye in y] + [residual, np.nan]\n",
    "            if residual < TOR:\n",
    "                break\n",
    "\n",
    "        for i in range(len(df)):\n",
    "            xk = np.array([df.loc[i][j] for j in range(len(x))])\n",
    "            df.loc[i][4] = linalg.norm(x - xk, np.inf)\n",
    "\n",
    "        return df"
   ]
  },
  {
   "cell_type": "code",
   "execution_count": 6,
   "metadata": {
    "ExecuteTime": {
     "end_time": "2018-02-05T03:47:23.562477Z",
     "start_time": "2018-02-05T03:47:23.484918Z"
    },
    "scrolled": true
   },
   "outputs": [
    {
     "data": {
      "text/html": [
       "<div>\n",
       "<style>\n",
       "    .dataframe thead tr:only-child th {\n",
       "        text-align: right;\n",
       "    }\n",
       "\n",
       "    .dataframe thead th {\n",
       "        text-align: left;\n",
       "    }\n",
       "\n",
       "    .dataframe tbody tr th {\n",
       "        vertical-align: top;\n",
       "    }\n",
       "</style>\n",
       "<table border=\"1\" class=\"dataframe\">\n",
       "  <thead>\n",
       "    <tr style=\"text-align: right;\">\n",
       "      <th></th>\n",
       "      <th>x1</th>\n",
       "      <th>x2</th>\n",
       "      <th>x3</th>\n",
       "      <th>residual</th>\n",
       "      <th>actual-residual</th>\n",
       "    </tr>\n",
       "  </thead>\n",
       "  <tbody>\n",
       "    <tr>\n",
       "      <th>0</th>\n",
       "      <td>0.75000000</td>\n",
       "      <td>0.75000000</td>\n",
       "      <td>0.75000000</td>\n",
       "      <td>nan</td>\n",
       "      <td>0.33570652</td>\n",
       "    </tr>\n",
       "    <tr>\n",
       "      <th>1</th>\n",
       "      <td>1.02916667</td>\n",
       "      <td>1.06908160</td>\n",
       "      <td>0.92887565</td>\n",
       "      <td>0.31908160</td>\n",
       "      <td>0.01662492</td>\n",
       "    </tr>\n",
       "    <tr>\n",
       "      <th>2</th>\n",
       "      <td>1.03817114</td>\n",
       "      <td>1.08510763</td>\n",
       "      <td>0.93110677</td>\n",
       "      <td>0.01602604</td>\n",
       "      <td>0.00177059</td>\n",
       "    </tr>\n",
       "    <tr>\n",
       "      <th>3</th>\n",
       "      <td>1.03646457</td>\n",
       "      <td>1.08568480</td>\n",
       "      <td>0.93118837</td>\n",
       "      <td>0.00170658</td>\n",
       "      <td>0.00006401</td>\n",
       "    </tr>\n",
       "    <tr>\n",
       "      <th>4</th>\n",
       "      <td>1.03640280</td>\n",
       "      <td>1.08570576</td>\n",
       "      <td>0.93119133</td>\n",
       "      <td>0.00006177</td>\n",
       "      <td>0.00000224</td>\n",
       "    </tr>\n",
       "    <tr>\n",
       "      <th>5</th>\n",
       "      <td>1.03640055</td>\n",
       "      <td>1.08570652</td>\n",
       "      <td>0.93119144</td>\n",
       "      <td>0.00000224</td>\n",
       "      <td>0.00000000</td>\n",
       "    </tr>\n",
       "  </tbody>\n",
       "</table>\n",
       "</div>"
      ],
      "text/plain": [
       "          x1         x2         x3   residual  actual-residual\n",
       "0 0.75000000 0.75000000 0.75000000        nan       0.33570652\n",
       "1 1.02916667 1.06908160 0.92887565 0.31908160       0.01662492\n",
       "2 1.03817114 1.08510763 0.93110677 0.01602604       0.00177059\n",
       "3 1.03646457 1.08568480 0.93118837 0.00170658       0.00006401\n",
       "4 1.03640280 1.08570576 0.93119133 0.00006177       0.00000224\n",
       "5 1.03640055 1.08570652 0.93119144 0.00000224       0.00000000"
      ]
     },
     "execution_count": 6,
     "metadata": {},
     "output_type": "execute_result"
    }
   ],
   "source": [
    "x0 = np.array([0.75, 0.75, 0.75])\n",
    "FixedPointAcceleration().run(x0)"
   ]
  },
  {
   "cell_type": "markdown",
   "metadata": {},
   "source": [
    "## (c) \n",
    "$$ G(x_1, x_2, x_3) = \\left( 1-\\cos(x_1 x_2 x_3), 1-(1-x_1)^{\\frac{1}{4}} - 0.05x_3^2+0.15x_3, x_1^2+0.1x_2^2-0.01x_2+1 \\right) $$"
   ]
  },
  {
   "cell_type": "code",
   "execution_count": 7,
   "metadata": {
    "ExecuteTime": {
     "end_time": "2018-02-05T03:47:23.610362Z",
     "start_time": "2018-02-05T03:47:23.564433Z"
    },
    "collapsed": true
   },
   "outputs": [],
   "source": [
    "class FixedPointAcceleration(FixedPointMethod):\n",
    "\n",
    "    def __init__(self):\n",
    "        super(FixedPointMethod, self).__init__()\n",
    "\n",
    "    def f(self, x):\n",
    "        sol = np.zeros(len(x))\n",
    "        sol[0] = 1 - math.cos(x[0] * x[1] * x[2])\n",
    "        sol[1] = 1 - pow((1 - sol[0]), 1 / 4) - 0.05 * pow(x[2], 2) + 0.15 * x[2]\n",
    "        sol[2] = pow(sol[0], 2) + 0.1 * pow(sol[1], 2) - 0.01 * sol[1] + 1\n",
    "        return sol\n",
    "\n",
    "    def run(self, x):\n",
    "        df = pd.DataFrame(columns=['x' + str(i + 1) for i in range(len(x))] + ['residual', 'actual-residual'])\n",
    "\n",
    "        row = len(df)\n",
    "        df.loc[row] = [xe for xe in x] + [np.nan, np.nan]\n",
    "\n",
    "        while True:\n",
    "            y = self.f(x)\n",
    "            residual = linalg.norm(x - y, np.inf)\n",
    "            x = y\n",
    "\n",
    "            row = len(df)\n",
    "            df.loc[row] = [ye for ye in y] + [residual, np.nan]\n",
    "            if residual < TOR:\n",
    "                break\n",
    "\n",
    "        for i in range(len(df)):\n",
    "            xk = np.array([df.loc[i][j] for j in range(len(x))])\n",
    "            df.loc[i][4] = linalg.norm(x - xk, np.inf)\n",
    "\n",
    "        return df"
   ]
  },
  {
   "cell_type": "code",
   "execution_count": 8,
   "metadata": {
    "ExecuteTime": {
     "end_time": "2018-02-05T03:47:23.665011Z",
     "start_time": "2018-02-05T03:47:23.612507Z"
    },
    "scrolled": true
   },
   "outputs": [
    {
     "data": {
      "text/html": [
       "<div>\n",
       "<style>\n",
       "    .dataframe thead tr:only-child th {\n",
       "        text-align: right;\n",
       "    }\n",
       "\n",
       "    .dataframe thead th {\n",
       "        text-align: left;\n",
       "    }\n",
       "\n",
       "    .dataframe tbody tr th {\n",
       "        vertical-align: top;\n",
       "    }\n",
       "</style>\n",
       "<table border=\"1\" class=\"dataframe\">\n",
       "  <thead>\n",
       "    <tr style=\"text-align: right;\">\n",
       "      <th></th>\n",
       "      <th>x1</th>\n",
       "      <th>x2</th>\n",
       "      <th>x3</th>\n",
       "      <th>residual</th>\n",
       "      <th>actual-residual</th>\n",
       "    </tr>\n",
       "  </thead>\n",
       "  <tbody>\n",
       "    <tr>\n",
       "      <th>0</th>\n",
       "      <td>0.00000000</td>\n",
       "      <td>0.00000000</td>\n",
       "      <td>0.00000000</td>\n",
       "      <td>nan</td>\n",
       "      <td>1.00000000</td>\n",
       "    </tr>\n",
       "    <tr>\n",
       "      <th>1</th>\n",
       "      <td>0.00000000</td>\n",
       "      <td>0.00000000</td>\n",
       "      <td>1.00000000</td>\n",
       "      <td>1.00000000</td>\n",
       "      <td>0.10000000</td>\n",
       "    </tr>\n",
       "    <tr>\n",
       "      <th>2</th>\n",
       "      <td>0.00000000</td>\n",
       "      <td>0.10000000</td>\n",
       "      <td>1.00000000</td>\n",
       "      <td>0.10000000</td>\n",
       "      <td>0.00000000</td>\n",
       "    </tr>\n",
       "    <tr>\n",
       "      <th>3</th>\n",
       "      <td>0.00000000</td>\n",
       "      <td>0.10000000</td>\n",
       "      <td>1.00000000</td>\n",
       "      <td>0.00000000</td>\n",
       "      <td>0.00000000</td>\n",
       "    </tr>\n",
       "  </tbody>\n",
       "</table>\n",
       "</div>"
      ],
      "text/plain": [
       "          x1         x2         x3   residual  actual-residual\n",
       "0 0.00000000 0.00000000 0.00000000        nan       1.00000000\n",
       "1 0.00000000 0.00000000 1.00000000 1.00000000       0.10000000\n",
       "2 0.00000000 0.10000000 1.00000000 0.10000000       0.00000000\n",
       "3 0.00000000 0.10000000 1.00000000 0.00000000       0.00000000"
      ]
     },
     "execution_count": 8,
     "metadata": {},
     "output_type": "execute_result"
    }
   ],
   "source": [
    "x0 = np.array([0, 0, 0])\n",
    "FixedPointAcceleration().run(x0)"
   ]
  },
  {
   "cell_type": "markdown",
   "metadata": {},
   "source": [
    "## (d) \n",
    "$$ G(x_1, x_2, x_3) = \\left( \\frac{1}{3}\\cos(x_2 x_3)+\\frac{1}{6}, -\\frac{1}{9}\\sqrt{x_1^2+\\sin x_3 +1.06}-0.1,− \\frac{1}{20}\\exp^{−x_1 x_2 } −\\frac{10\\pi−3}{60} \\right) $$"
   ]
  },
  {
   "cell_type": "code",
   "execution_count": 9,
   "metadata": {
    "ExecuteTime": {
     "end_time": "2018-02-05T03:47:23.718076Z",
     "start_time": "2018-02-05T03:47:23.666762Z"
    },
    "collapsed": true
   },
   "outputs": [],
   "source": [
    "class FixedPointAcceleration(FixedPointMethod):\n",
    "\n",
    "    def __init__(self):\n",
    "        super(FixedPointMethod, self).__init__()\n",
    "\n",
    "    def f(self, x):\n",
    "        sol = np.zeros(len(x))\n",
    "        sol[0] = math.cos(x[1] * x[2]) / 3.0 + 1.0 / 6.0\n",
    "        sol[1] = - 1 / 9 * math.sqrt(pow(sol[0], 2) + math.sin(x[2]) + 1.06) - 0.1\n",
    "        sol[2] = -1.0 / 20.0 * math.exp(-sol[0] * sol[1]) - (10 * math.pi - 3) / 60.0\n",
    "        return sol\n",
    "\n",
    "    def run(self, x):\n",
    "        df = pd.DataFrame(columns=['x' + str(i + 1) for i in range(len(x))] + ['residual', 'actual-residual'])\n",
    "\n",
    "        row = len(df)\n",
    "        df.loc[row] = [xe for xe in x] + [np.nan, np.nan]\n",
    "\n",
    "        while True:\n",
    "            y = self.f(x)\n",
    "            residual = linalg.norm(x - y, np.inf)\n",
    "            x = y\n",
    "\n",
    "            row = len(df)\n",
    "            df.loc[row] = [ye for ye in y] + [residual, np.nan]\n",
    "            if residual < TOR:\n",
    "                break\n",
    "\n",
    "        for i in range(len(df)):\n",
    "            xk = np.array([df.loc[i][j] for j in range(len(x))])\n",
    "            df.loc[i][4] = linalg.norm(x - xk, np.inf)\n",
    "\n",
    "        return df"
   ]
  },
  {
   "cell_type": "code",
   "execution_count": 10,
   "metadata": {
    "ExecuteTime": {
     "end_time": "2018-02-05T03:47:23.780434Z",
     "start_time": "2018-02-05T03:47:23.719649Z"
    },
    "scrolled": true
   },
   "outputs": [
    {
     "data": {
      "text/html": [
       "<div>\n",
       "<style>\n",
       "    .dataframe thead tr:only-child th {\n",
       "        text-align: right;\n",
       "    }\n",
       "\n",
       "    .dataframe thead th {\n",
       "        text-align: left;\n",
       "    }\n",
       "\n",
       "    .dataframe tbody tr th {\n",
       "        vertical-align: top;\n",
       "    }\n",
       "</style>\n",
       "<table border=\"1\" class=\"dataframe\">\n",
       "  <thead>\n",
       "    <tr style=\"text-align: right;\">\n",
       "      <th></th>\n",
       "      <th>x1</th>\n",
       "      <th>x2</th>\n",
       "      <th>x3</th>\n",
       "      <th>residual</th>\n",
       "      <th>actual-residual</th>\n",
       "    </tr>\n",
       "  </thead>\n",
       "  <tbody>\n",
       "    <tr>\n",
       "      <th>0</th>\n",
       "      <td>0.00000000</td>\n",
       "      <td>0.00000000</td>\n",
       "      <td>0.00000000</td>\n",
       "      <td>nan</td>\n",
       "      <td>0.52882598</td>\n",
       "    </tr>\n",
       "    <tr>\n",
       "      <th>1</th>\n",
       "      <td>0.50000000</td>\n",
       "      <td>-0.22717248</td>\n",
       "      <td>-0.52961320</td>\n",
       "      <td>0.52961320</td>\n",
       "      <td>0.02756659</td>\n",
       "    </tr>\n",
       "    <tr>\n",
       "      <th>2</th>\n",
       "      <td>0.49759035</td>\n",
       "      <td>-0.19952955</td>\n",
       "      <td>-0.52881777</td>\n",
       "      <td>0.02764293</td>\n",
       "      <td>0.00055432</td>\n",
       "    </tr>\n",
       "    <tr>\n",
       "      <th>3</th>\n",
       "      <td>0.49814616</td>\n",
       "      <td>-0.19960643</td>\n",
       "      <td>-0.52882601</td>\n",
       "      <td>0.00055581</td>\n",
       "      <td>0.00000149</td>\n",
       "    </tr>\n",
       "    <tr>\n",
       "      <th>4</th>\n",
       "      <td>0.49814467</td>\n",
       "      <td>-0.19960589</td>\n",
       "      <td>-0.52882598</td>\n",
       "      <td>0.00000149</td>\n",
       "      <td>0.00000000</td>\n",
       "    </tr>\n",
       "  </tbody>\n",
       "</table>\n",
       "</div>"
      ],
      "text/plain": [
       "          x1          x2          x3   residual  actual-residual\n",
       "0 0.00000000  0.00000000  0.00000000        nan       0.52882598\n",
       "1 0.50000000 -0.22717248 -0.52961320 0.52961320       0.02756659\n",
       "2 0.49759035 -0.19952955 -0.52881777 0.02764293       0.00055432\n",
       "3 0.49814616 -0.19960643 -0.52882601 0.00055581       0.00000149\n",
       "4 0.49814467 -0.19960589 -0.52882598 0.00000149       0.00000000"
      ]
     },
     "execution_count": 10,
     "metadata": {},
     "output_type": "execute_result"
    }
   ],
   "source": [
    "x0 = np.array([0, 0, 0])\n",
    "FixedPointAcceleration().run(x0)"
   ]
  }
 ],
 "metadata": {
  "kernelspec": {
   "display_name": "Python 3",
   "language": "python",
   "name": "python3"
  },
  "language_info": {
   "codemirror_mode": {
    "name": "ipython",
    "version": 3
   },
   "file_extension": ".py",
   "mimetype": "text/x-python",
   "name": "python",
   "nbconvert_exporter": "python",
   "pygments_lexer": "ipython3",
   "version": "3.6.3"
  },
  "toc": {
   "nav_menu": {},
   "number_sections": true,
   "sideBar": true,
   "skip_h1_title": false,
   "toc_cell": true,
   "toc_position": {},
   "toc_section_display": "block",
   "toc_window_display": false
  },
  "varInspector": {
   "cols": {
    "lenName": 16,
    "lenType": 16,
    "lenVar": 40
   },
   "kernels_config": {
    "python": {
     "delete_cmd_postfix": "",
     "delete_cmd_prefix": "del ",
     "library": "var_list.py",
     "varRefreshCmd": "print(var_dic_list())"
    },
    "r": {
     "delete_cmd_postfix": ") ",
     "delete_cmd_prefix": "rm(",
     "library": "var_list.r",
     "varRefreshCmd": "cat(var_dic_list()) "
    }
   },
   "types_to_exclude": [
    "module",
    "function",
    "builtin_function_or_method",
    "instance",
    "_Feature"
   ],
   "window_display": false
  }
 },
 "nbformat": 4,
 "nbformat_minor": 2
}
