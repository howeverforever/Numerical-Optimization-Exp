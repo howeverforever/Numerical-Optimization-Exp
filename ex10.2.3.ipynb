{
 "cells": [
  {
   "cell_type": "markdown",
   "metadata": {
    "toc": true
   },
   "source": [
    "<h1>Table of Contents<span class=\"tocSkip\"></span></h1>\n",
    "<div class=\"toc\" style=\"margin-top: 1em;\"><ul class=\"toc-item\"><li><ul class=\"toc-item\"><li><span><a href=\"#(a)\" data-toc-modified-id=\"(a)-0.1\"><span class=\"toc-item-num\">0.1&nbsp;&nbsp;</span>(a)</a></span></li><li><span><a href=\"#(b)\" data-toc-modified-id=\"(b)-0.2\"><span class=\"toc-item-num\">0.2&nbsp;&nbsp;</span>(b)</a></span></li><li><span><a href=\"#(c)\" data-toc-modified-id=\"(c)-0.3\"><span class=\"toc-item-num\">0.3&nbsp;&nbsp;</span>(c)</a></span></li><li><span><a href=\"#(d)\" data-toc-modified-id=\"(d)-0.4\"><span class=\"toc-item-num\">0.4&nbsp;&nbsp;</span>(d)</a></span></li></ul></li></ul></div>"
   ]
  },
  {
   "cell_type": "markdown",
   "metadata": {},
   "source": [
    "Use the graphing facilities of Maple to approximate solutions to the following nonlinear systems."
   ]
  },
  {
   "cell_type": "markdown",
   "metadata": {},
   "source": [
    "## (a) \n",
    "$$\\begin{align*}\n",
    "4x_1^2 - 20 x_1 + \\frac{1}{4} x_2^2 + 8 &= 0 \\\\\n",
    "\\frac{1}{2}x_1x_2^2+2x_1-5x_2+8 &= 0\n",
    "\\end{align*}$$"
   ]
  },
  {
   "cell_type": "markdown",
   "metadata": {},
   "source": [
    "[result](http://www.wolframalpha.com/input/?i=4x%5E2-20x%2B1%2F4+y%5E2+%2B+8%3D0,+1%2F2+xy%5E2%2B2x-5y%2B8%3D0)"
   ]
  },
  {
   "cell_type": "markdown",
   "metadata": {},
   "source": [
    "## (b) \n",
    "$$\\begin{align*}\n",
    "\\sin(4\\pi x_1 x_2)-2x_2-x_1 &= 0 \\\\\n",
    "\\left( \\frac{4\\pi-1}{4\\pi} \\right)(\\exp^{2x_1}-\\exp)+4\\exp x_2^2 -2\\exp x_1 &= 0\n",
    "\\end{align*}$$"
   ]
  },
  {
   "cell_type": "markdown",
   "metadata": {},
   "source": [
    "<a href=\"http://www.wolframalpha.com/input/?i=sin(4+%5Cpi+x+y+)-2y-x%3D0,+((4+%5Cpi-1)%2F(4+%5Cpi))+(e%5E(2x)-e)%2B4e+y%5E2+-2e+x+%3D+0\"> result </a> "
   ]
  },
  {
   "cell_type": "markdown",
   "metadata": {},
   "source": [
    "## (c) \n",
    "$$\\begin{align*}\n",
    "x_1(1-x_1)+4x_2 &= 12 \\\\\n",
    "(x_1 - x_2)^2 + (2x_2-3)^2 &= 25\n",
    "\\end{align*}$$"
   ]
  },
  {
   "cell_type": "markdown",
   "metadata": {
    "ExecuteTime": {
     "end_time": "2018-02-05T04:09:08.999425Z",
     "start_time": "2018-02-05T04:09:08.996585Z"
    }
   },
   "source": [
    "<a href=\"http://www.wolframalpha.com/input/?i=x(1-x)%2B4y%3D12,+(x-y)%5E2%2B(2y-3)%5E2%3D25\"> result </a>"
   ]
  },
  {
   "cell_type": "markdown",
   "metadata": {},
   "source": [
    "## (d) \n",
    "$$\\begin{align*}\n",
    "5x_1^2-x_2^2 &= 0 \\\\\n",
    "x_2 - 0.25(\\sin x_1 + \\cos x_2) &= 0\n",
    "\\end{align*}$$"
   ]
  },
  {
   "cell_type": "markdown",
   "metadata": {},
   "source": [
    "<a href=\"http://www.wolframalpha.com/input/?i=5x%5E2-y%5E2%3D0,+y-0.25(sin+x%2B+cos+y)%3D0\"> result </a>"
   ]
  }
 ],
 "metadata": {
  "kernelspec": {
   "display_name": "Python 3",
   "language": "python",
   "name": "python3"
  },
  "language_info": {
   "codemirror_mode": {
    "name": "ipython",
    "version": 3
   },
   "file_extension": ".py",
   "mimetype": "text/x-python",
   "name": "python",
   "nbconvert_exporter": "python",
   "pygments_lexer": "ipython3",
   "version": "3.6.3"
  },
  "toc": {
   "nav_menu": {},
   "number_sections": true,
   "sideBar": true,
   "skip_h1_title": false,
   "toc_cell": true,
   "toc_position": {},
   "toc_section_display": "block",
   "toc_window_display": false
  },
  "varInspector": {
   "cols": {
    "lenName": 16,
    "lenType": 16,
    "lenVar": 40
   },
   "kernels_config": {
    "python": {
     "delete_cmd_postfix": "",
     "delete_cmd_prefix": "del ",
     "library": "var_list.py",
     "varRefreshCmd": "print(var_dic_list())"
    },
    "r": {
     "delete_cmd_postfix": ") ",
     "delete_cmd_prefix": "rm(",
     "library": "var_list.r",
     "varRefreshCmd": "cat(var_dic_list()) "
    }
   },
   "types_to_exclude": [
    "module",
    "function",
    "builtin_function_or_method",
    "instance",
    "_Feature"
   ],
   "window_display": false
  }
 },
 "nbformat": 4,
 "nbformat_minor": 2
}
