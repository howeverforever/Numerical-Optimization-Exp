{
 "cells": [
  {
   "cell_type": "markdown",
   "metadata": {
    "toc": true
   },
   "source": [
    "<h1>Table of Contents<span class=\"tocSkip\"></span></h1>\n",
    "<div class=\"toc\" style=\"margin-top: 1em;\"><ul class=\"toc-item\"><li><ul class=\"toc-item\"><li><span><a href=\"#(a)\" data-toc-modified-id=\"(a)-0.1\"><span class=\"toc-item-num\">0.1&nbsp;&nbsp;</span>(a)</a></span></li><li><span><a href=\"#(b)\" data-toc-modified-id=\"(b)-0.2\"><span class=\"toc-item-num\">0.2&nbsp;&nbsp;</span>(b)</a></span></li><li><span><a href=\"#(c)\" data-toc-modified-id=\"(c)-0.3\"><span class=\"toc-item-num\">0.3&nbsp;&nbsp;</span>(c)</a></span></li><li><span><a href=\"#(d)\" data-toc-modified-id=\"(d)-0.4\"><span class=\"toc-item-num\">0.4&nbsp;&nbsp;</span>(d)</a></span></li></ul></li></ul></div>"
   ]
  },
  {
   "cell_type": "markdown",
   "metadata": {},
   "source": [
    "Use Newton’s method to find solutions accurate to within $10^{−4}$ for the following problems."
   ]
  },
  {
   "cell_type": "code",
   "execution_count": 1,
   "metadata": {
    "ExecuteTime": {
     "end_time": "2018-02-03T16:45:28.795181Z",
     "start_time": "2018-02-03T16:45:28.506088Z"
    },
    "collapsed": true
   },
   "outputs": [],
   "source": [
    "import numpy as np\n",
    "from numpy import linalg\n",
    "from abc import abstractmethod\n",
    "import pandas as pd\n",
    "import math\n",
    "\n",
    "pd.options.display.float_format = '{:,.8f}'.format\n",
    "np.set_printoptions(suppress=True, precision=8)\n",
    "\n",
    "TOR = pow(10.0, -4)\n",
    "MAX_ITR = 150"
   ]
  },
  {
   "cell_type": "code",
   "execution_count": 2,
   "metadata": {
    "ExecuteTime": {
     "end_time": "2018-02-03T16:45:28.807611Z",
     "start_time": "2018-02-03T16:45:28.797266Z"
    },
    "collapsed": true
   },
   "outputs": [],
   "source": [
    "class NewtonMethod(object):\n",
    "\n",
    "    def __init__(self):\n",
    "        return\n",
    "\n",
    "    @abstractmethod\n",
    "    def f(self, x):\n",
    "        return NotImplementedError('Implement f()!')\n",
    "\n",
    "    @abstractmethod\n",
    "    def jacobian(self, x):\n",
    "        return NotImplementedError('Implement jacobian()!')\n",
    "\n",
    "    @abstractmethod\n",
    "    def run(self, x):\n",
    "        return NotImplementedError('Implement run()!')"
   ]
  },
  {
   "cell_type": "markdown",
   "metadata": {},
   "source": [
    "## (a) \n",
    "$$x^3 − 2x^2 − 5 = 0, [1, 4]$$"
   ]
  },
  {
   "cell_type": "code",
   "execution_count": 3,
   "metadata": {
    "ExecuteTime": {
     "end_time": "2018-02-03T16:45:28.842412Z",
     "start_time": "2018-02-03T16:45:28.809595Z"
    },
    "collapsed": true
   },
   "outputs": [],
   "source": [
    "class Newton1D(NewtonMethod):\n",
    "\n",
    "    def __init__(self):\n",
    "        super(NewtonMethod, self).__init__()\n",
    "\n",
    "    def f(self, x):\n",
    "        return pow(x, 3) - 2 * pow(x, 2) - 5\n",
    "\n",
    "    def jacobian(self, x):\n",
    "        return 3 * pow(x, 2) - 4 * x\n",
    "\n",
    "    def run(self, x0):\n",
    "        df = pd.DataFrame(columns=['f(x)'])\n",
    "        row = len(df)\n",
    "        x = x0\n",
    "        df.loc[row] = [x]\n",
    "        for k in range(MAX_ITR):\n",
    "            try:\n",
    "                y = x - self.f(x) / self.jacobian(x)\n",
    "            except ValueError:\n",
    "                break\n",
    "            residual = math.fabs(x - y)\n",
    "            x = y\n",
    "\n",
    "            row = len(df)\n",
    "            df.loc[row] = [y]\n",
    "            if residual < TOR or x > 1e9:\n",
    "                break\n",
    "        return df"
   ]
  },
  {
   "cell_type": "code",
   "execution_count": 4,
   "metadata": {
    "ExecuteTime": {
     "end_time": "2018-02-03T16:45:28.877643Z",
     "start_time": "2018-02-03T16:45:28.844582Z"
    },
    "scrolled": true
   },
   "outputs": [
    {
     "data": {
      "text/html": [
       "<div>\n",
       "<style>\n",
       "    .dataframe thead tr:only-child th {\n",
       "        text-align: right;\n",
       "    }\n",
       "\n",
       "    .dataframe thead th {\n",
       "        text-align: left;\n",
       "    }\n",
       "\n",
       "    .dataframe tbody tr th {\n",
       "        vertical-align: top;\n",
       "    }\n",
       "</style>\n",
       "<table border=\"1\" class=\"dataframe\">\n",
       "  <thead>\n",
       "    <tr style=\"text-align: right;\">\n",
       "      <th></th>\n",
       "      <th>f(x)</th>\n",
       "    </tr>\n",
       "  </thead>\n",
       "  <tbody>\n",
       "    <tr>\n",
       "      <th>0</th>\n",
       "      <td>2.50000000</td>\n",
       "    </tr>\n",
       "    <tr>\n",
       "      <th>1</th>\n",
       "      <td>2.71428571</td>\n",
       "    </tr>\n",
       "    <tr>\n",
       "      <th>2</th>\n",
       "      <td>2.69095152</td>\n",
       "    </tr>\n",
       "    <tr>\n",
       "      <th>3</th>\n",
       "      <td>2.69064750</td>\n",
       "    </tr>\n",
       "    <tr>\n",
       "      <th>4</th>\n",
       "      <td>2.69064745</td>\n",
       "    </tr>\n",
       "  </tbody>\n",
       "</table>\n",
       "</div>"
      ],
      "text/plain": [
       "        f(x)\n",
       "0 2.50000000\n",
       "1 2.71428571\n",
       "2 2.69095152\n",
       "3 2.69064750\n",
       "4 2.69064745"
      ]
     },
     "execution_count": 4,
     "metadata": {},
     "output_type": "execute_result"
    }
   ],
   "source": [
    "Newton1D().run(2.5).astype(np.float64)"
   ]
  },
  {
   "cell_type": "markdown",
   "metadata": {},
   "source": [
    "## (b) \n",
    "$$x^3 + 3x^2 − 1 = 0, [-3, -2]$$"
   ]
  },
  {
   "cell_type": "code",
   "execution_count": 5,
   "metadata": {
    "ExecuteTime": {
     "end_time": "2018-02-03T16:45:28.903327Z",
     "start_time": "2018-02-03T16:45:28.878995Z"
    },
    "collapsed": true
   },
   "outputs": [],
   "source": [
    "class Newton1D(NewtonMethod):\n",
    "\n",
    "    def __init__(self):\n",
    "        super(NewtonMethod, self).__init__()\n",
    "\n",
    "    def f(self, x):\n",
    "        return pow(x, 3) + 3 * pow(x, 2) - 1\n",
    "\n",
    "    def jacobian(self, x):\n",
    "        return 3 * pow(x, 2) - 6 * x\n",
    "\n",
    "    def run(self, x0):\n",
    "        df = pd.DataFrame(columns=['f(x)'])\n",
    "        row = len(df)\n",
    "        x = x0\n",
    "        df.loc[row] = [x]\n",
    "        for k in range(MAX_ITR):\n",
    "            try:\n",
    "                y = x - self.f(x) / self.jacobian(x)\n",
    "            except ValueError:\n",
    "                break\n",
    "            residual = math.fabs(x - y)\n",
    "            x = y\n",
    "\n",
    "            row = len(df)\n",
    "            df.loc[row] = [y]\n",
    "            if residual < TOR or x > 1e9:\n",
    "                break\n",
    "        return df"
   ]
  },
  {
   "cell_type": "code",
   "execution_count": 6,
   "metadata": {
    "ExecuteTime": {
     "end_time": "2018-02-03T16:45:28.980754Z",
     "start_time": "2018-02-03T16:45:28.904905Z"
    },
    "scrolled": true
   },
   "outputs": [
    {
     "data": {
      "text/html": [
       "<div>\n",
       "<style>\n",
       "    .dataframe thead tr:only-child th {\n",
       "        text-align: right;\n",
       "    }\n",
       "\n",
       "    .dataframe thead th {\n",
       "        text-align: left;\n",
       "    }\n",
       "\n",
       "    .dataframe tbody tr th {\n",
       "        vertical-align: top;\n",
       "    }\n",
       "</style>\n",
       "<table border=\"1\" class=\"dataframe\">\n",
       "  <thead>\n",
       "    <tr style=\"text-align: right;\">\n",
       "      <th></th>\n",
       "      <th>f(x)</th>\n",
       "    </tr>\n",
       "  </thead>\n",
       "  <tbody>\n",
       "    <tr>\n",
       "      <th>0</th>\n",
       "      <td>-2.50000000</td>\n",
       "    </tr>\n",
       "    <tr>\n",
       "      <th>1</th>\n",
       "      <td>-2.56296296</td>\n",
       "    </tr>\n",
       "    <tr>\n",
       "      <th>2</th>\n",
       "      <td>-2.61628623</td>\n",
       "    </tr>\n",
       "    <tr>\n",
       "      <th>3</th>\n",
       "      <td>-2.66117685</td>\n",
       "    </tr>\n",
       "    <tr>\n",
       "      <th>4</th>\n",
       "      <td>-2.69878500</td>\n",
       "    </tr>\n",
       "    <tr>\n",
       "      <th>5</th>\n",
       "      <td>-2.73016740</td>\n",
       "    </tr>\n",
       "    <tr>\n",
       "      <th>6</th>\n",
       "      <td>-2.75627009</td>\n",
       "    </tr>\n",
       "    <tr>\n",
       "      <th>7</th>\n",
       "      <td>-2.77792405</td>\n",
       "    </tr>\n",
       "    <tr>\n",
       "      <th>8</th>\n",
       "      <td>-2.79584879</td>\n",
       "    </tr>\n",
       "    <tr>\n",
       "      <th>9</th>\n",
       "      <td>-2.81066040</td>\n",
       "    </tr>\n",
       "    <tr>\n",
       "      <th>10</th>\n",
       "      <td>-2.82288194</td>\n",
       "    </tr>\n",
       "    <tr>\n",
       "      <th>11</th>\n",
       "      <td>-2.83295445</td>\n",
       "    </tr>\n",
       "    <tr>\n",
       "      <th>12</th>\n",
       "      <td>-2.84124779</td>\n",
       "    </tr>\n",
       "    <tr>\n",
       "      <th>13</th>\n",
       "      <td>-2.84807085</td>\n",
       "    </tr>\n",
       "    <tr>\n",
       "      <th>14</th>\n",
       "      <td>-2.85368065</td>\n",
       "    </tr>\n",
       "    <tr>\n",
       "      <th>15</th>\n",
       "      <td>-2.85829049</td>\n",
       "    </tr>\n",
       "    <tr>\n",
       "      <th>16</th>\n",
       "      <td>-2.86207697</td>\n",
       "    </tr>\n",
       "    <tr>\n",
       "      <th>17</th>\n",
       "      <td>-2.86518605</td>\n",
       "    </tr>\n",
       "    <tr>\n",
       "      <th>18</th>\n",
       "      <td>-2.86773816</td>\n",
       "    </tr>\n",
       "    <tr>\n",
       "      <th>19</th>\n",
       "      <td>-2.86983260</td>\n",
       "    </tr>\n",
       "    <tr>\n",
       "      <th>20</th>\n",
       "      <td>-2.87155109</td>\n",
       "    </tr>\n",
       "    <tr>\n",
       "      <th>21</th>\n",
       "      <td>-2.87296089</td>\n",
       "    </tr>\n",
       "    <tr>\n",
       "      <th>22</th>\n",
       "      <td>-2.87411730</td>\n",
       "    </tr>\n",
       "    <tr>\n",
       "      <th>23</th>\n",
       "      <td>-2.87506576</td>\n",
       "    </tr>\n",
       "    <tr>\n",
       "      <th>24</th>\n",
       "      <td>-2.87584360</td>\n",
       "    </tr>\n",
       "    <tr>\n",
       "      <th>25</th>\n",
       "      <td>-2.87648146</td>\n",
       "    </tr>\n",
       "    <tr>\n",
       "      <th>26</th>\n",
       "      <td>-2.87700450</td>\n",
       "    </tr>\n",
       "    <tr>\n",
       "      <th>27</th>\n",
       "      <td>-2.87743338</td>\n",
       "    </tr>\n",
       "    <tr>\n",
       "      <th>28</th>\n",
       "      <td>-2.87778502</td>\n",
       "    </tr>\n",
       "    <tr>\n",
       "      <th>29</th>\n",
       "      <td>-2.87807333</td>\n",
       "    </tr>\n",
       "    <tr>\n",
       "      <th>30</th>\n",
       "      <td>-2.87830971</td>\n",
       "    </tr>\n",
       "    <tr>\n",
       "      <th>31</th>\n",
       "      <td>-2.87850351</td>\n",
       "    </tr>\n",
       "    <tr>\n",
       "      <th>32</th>\n",
       "      <td>-2.87866239</td>\n",
       "    </tr>\n",
       "    <tr>\n",
       "      <th>33</th>\n",
       "      <td>-2.87879265</td>\n",
       "    </tr>\n",
       "    <tr>\n",
       "      <th>34</th>\n",
       "      <td>-2.87889944</td>\n",
       "    </tr>\n",
       "    <tr>\n",
       "      <th>35</th>\n",
       "      <td>-2.87898698</td>\n",
       "    </tr>\n",
       "  </tbody>\n",
       "</table>\n",
       "</div>"
      ],
      "text/plain": [
       "          f(x)\n",
       "0  -2.50000000\n",
       "1  -2.56296296\n",
       "2  -2.61628623\n",
       "3  -2.66117685\n",
       "4  -2.69878500\n",
       "5  -2.73016740\n",
       "6  -2.75627009\n",
       "7  -2.77792405\n",
       "8  -2.79584879\n",
       "9  -2.81066040\n",
       "10 -2.82288194\n",
       "11 -2.83295445\n",
       "12 -2.84124779\n",
       "13 -2.84807085\n",
       "14 -2.85368065\n",
       "15 -2.85829049\n",
       "16 -2.86207697\n",
       "17 -2.86518605\n",
       "18 -2.86773816\n",
       "19 -2.86983260\n",
       "20 -2.87155109\n",
       "21 -2.87296089\n",
       "22 -2.87411730\n",
       "23 -2.87506576\n",
       "24 -2.87584360\n",
       "25 -2.87648146\n",
       "26 -2.87700450\n",
       "27 -2.87743338\n",
       "28 -2.87778502\n",
       "29 -2.87807333\n",
       "30 -2.87830971\n",
       "31 -2.87850351\n",
       "32 -2.87866239\n",
       "33 -2.87879265\n",
       "34 -2.87889944\n",
       "35 -2.87898698"
      ]
     },
     "execution_count": 6,
     "metadata": {},
     "output_type": "execute_result"
    }
   ],
   "source": [
    "Newton1D().run(-2.5).astype(np.float64)"
   ]
  },
  {
   "cell_type": "markdown",
   "metadata": {},
   "source": [
    "## (c) \n",
    "$$x−\\cos x=0, [0, \\frac{\\pi}{2}]$$"
   ]
  },
  {
   "cell_type": "code",
   "execution_count": 7,
   "metadata": {
    "ExecuteTime": {
     "end_time": "2018-02-03T16:45:29.010784Z",
     "start_time": "2018-02-03T16:45:28.981903Z"
    },
    "collapsed": true
   },
   "outputs": [],
   "source": [
    "class Newton1D(NewtonMethod):\n",
    "\n",
    "    def __init__(self):\n",
    "        super(NewtonMethod, self).__init__()\n",
    "\n",
    "    def f(self, x):\n",
    "        return x - math.cos(x)\n",
    "\n",
    "    def jacobian(self, x):\n",
    "        return 1 + math.sin(x)\n",
    "\n",
    "    def run(self, x0):\n",
    "        df = pd.DataFrame(columns=['f(x)'])\n",
    "        row = len(df)\n",
    "        x = x0\n",
    "        df.loc[row] = [x]\n",
    "        for k in range(MAX_ITR):\n",
    "            try:\n",
    "                y = x - self.f(x) / self.jacobian(x)\n",
    "            except ValueError:\n",
    "                break\n",
    "            residual = math.fabs(x - y)\n",
    "            x = y\n",
    "\n",
    "            row = len(df)\n",
    "            df.loc[row] = [y]\n",
    "            if residual < TOR or x > 1e9:\n",
    "                break\n",
    "        return df"
   ]
  },
  {
   "cell_type": "code",
   "execution_count": 8,
   "metadata": {
    "ExecuteTime": {
     "end_time": "2018-02-03T16:45:29.059081Z",
     "start_time": "2018-02-03T16:45:29.012379Z"
    },
    "scrolled": true
   },
   "outputs": [
    {
     "data": {
      "text/html": [
       "<div>\n",
       "<style>\n",
       "    .dataframe thead tr:only-child th {\n",
       "        text-align: right;\n",
       "    }\n",
       "\n",
       "    .dataframe thead th {\n",
       "        text-align: left;\n",
       "    }\n",
       "\n",
       "    .dataframe tbody tr th {\n",
       "        vertical-align: top;\n",
       "    }\n",
       "</style>\n",
       "<table border=\"1\" class=\"dataframe\">\n",
       "  <thead>\n",
       "    <tr style=\"text-align: right;\">\n",
       "      <th></th>\n",
       "      <th>f(x)</th>\n",
       "    </tr>\n",
       "  </thead>\n",
       "  <tbody>\n",
       "    <tr>\n",
       "      <th>0</th>\n",
       "      <td>0.78539816</td>\n",
       "    </tr>\n",
       "    <tr>\n",
       "      <th>1</th>\n",
       "      <td>0.73953613</td>\n",
       "    </tr>\n",
       "    <tr>\n",
       "      <th>2</th>\n",
       "      <td>0.73908518</td>\n",
       "    </tr>\n",
       "    <tr>\n",
       "      <th>3</th>\n",
       "      <td>0.73908513</td>\n",
       "    </tr>\n",
       "  </tbody>\n",
       "</table>\n",
       "</div>"
      ],
      "text/plain": [
       "        f(x)\n",
       "0 0.78539816\n",
       "1 0.73953613\n",
       "2 0.73908518\n",
       "3 0.73908513"
      ]
     },
     "execution_count": 8,
     "metadata": {},
     "output_type": "execute_result"
    }
   ],
   "source": [
    "Newton1D().run(math.pi / 4.0).astype(np.float64)"
   ]
  },
  {
   "cell_type": "markdown",
   "metadata": {},
   "source": [
    "## (d)\n",
    "$$x − 0.8 − 0.2 \\sin x = 0, [0, \\frac{\\pi}{2}]$$"
   ]
  },
  {
   "cell_type": "code",
   "execution_count": 9,
   "metadata": {
    "ExecuteTime": {
     "end_time": "2018-02-03T16:45:29.099285Z",
     "start_time": "2018-02-03T16:45:29.060778Z"
    },
    "collapsed": true
   },
   "outputs": [],
   "source": [
    "class Newton1D(NewtonMethod):\n",
    "\n",
    "    def __init__(self):\n",
    "        super(NewtonMethod, self).__init__()\n",
    "\n",
    "    def f(self, x):\n",
    "        return x - 0.8 - 0.2 * math.sin(x)\n",
    "\n",
    "    def jacobian(self, x):\n",
    "        return 1 - 0.2 * math.cos(x)\n",
    "\n",
    "    def run(self, x0):\n",
    "        df = pd.DataFrame(columns=['f(x)'])\n",
    "        row = len(df)\n",
    "        x = x0\n",
    "        df.loc[row] = [x]\n",
    "        for k in range(MAX_ITR):\n",
    "            try:\n",
    "                y = x - self.f(x) / self.jacobian(x)\n",
    "            except ValueError:\n",
    "                break\n",
    "            residual = math.fabs(x - y)\n",
    "            x = y\n",
    "\n",
    "            row = len(df)\n",
    "            df.loc[row] = [y]\n",
    "            if residual < TOR or x > 1e9:\n",
    "                break\n",
    "        return df"
   ]
  },
  {
   "cell_type": "code",
   "execution_count": 10,
   "metadata": {
    "ExecuteTime": {
     "end_time": "2018-02-03T16:45:29.160209Z",
     "start_time": "2018-02-03T16:45:29.100836Z"
    },
    "scrolled": true
   },
   "outputs": [
    {
     "data": {
      "text/html": [
       "<div>\n",
       "<style>\n",
       "    .dataframe thead tr:only-child th {\n",
       "        text-align: right;\n",
       "    }\n",
       "\n",
       "    .dataframe thead th {\n",
       "        text-align: left;\n",
       "    }\n",
       "\n",
       "    .dataframe tbody tr th {\n",
       "        vertical-align: top;\n",
       "    }\n",
       "</style>\n",
       "<table border=\"1\" class=\"dataframe\">\n",
       "  <thead>\n",
       "    <tr style=\"text-align: right;\">\n",
       "      <th></th>\n",
       "      <th>f(x)</th>\n",
       "    </tr>\n",
       "  </thead>\n",
       "  <tbody>\n",
       "    <tr>\n",
       "      <th>0</th>\n",
       "      <td>0.78539816</td>\n",
       "    </tr>\n",
       "    <tr>\n",
       "      <th>1</th>\n",
       "      <td>0.96712082</td>\n",
       "    </tr>\n",
       "    <tr>\n",
       "      <th>2</th>\n",
       "      <td>0.96433461</td>\n",
       "    </tr>\n",
       "    <tr>\n",
       "      <th>3</th>\n",
       "      <td>0.96433389</td>\n",
       "    </tr>\n",
       "  </tbody>\n",
       "</table>\n",
       "</div>"
      ],
      "text/plain": [
       "        f(x)\n",
       "0 0.78539816\n",
       "1 0.96712082\n",
       "2 0.96433461\n",
       "3 0.96433389"
      ]
     },
     "execution_count": 10,
     "metadata": {},
     "output_type": "execute_result"
    }
   ],
   "source": [
    "Newton1D().run(math.pi / 4.0).astype(np.float64)"
   ]
  }
 ],
 "metadata": {
  "kernelspec": {
   "display_name": "Python 3",
   "language": "python",
   "name": "python3"
  },
  "language_info": {
   "codemirror_mode": {
    "name": "ipython",
    "version": 3
   },
   "file_extension": ".py",
   "mimetype": "text/x-python",
   "name": "python",
   "nbconvert_exporter": "python",
   "pygments_lexer": "ipython3",
   "version": "3.6.3"
  },
  "toc": {
   "nav_menu": {},
   "number_sections": true,
   "sideBar": true,
   "skip_h1_title": false,
   "toc_cell": true,
   "toc_position": {},
   "toc_section_display": "block",
   "toc_window_display": false
  },
  "varInspector": {
   "cols": {
    "lenName": 16,
    "lenType": 16,
    "lenVar": 40
   },
   "kernels_config": {
    "python": {
     "delete_cmd_postfix": "",
     "delete_cmd_prefix": "del ",
     "library": "var_list.py",
     "varRefreshCmd": "print(var_dic_list())"
    },
    "r": {
     "delete_cmd_postfix": ") ",
     "delete_cmd_prefix": "rm(",
     "library": "var_list.r",
     "varRefreshCmd": "cat(var_dic_list()) "
    }
   },
   "types_to_exclude": [
    "module",
    "function",
    "builtin_function_or_method",
    "instance",
    "_Feature"
   ],
   "window_display": false
  }
 },
 "nbformat": 4,
 "nbformat_minor": 2
}
